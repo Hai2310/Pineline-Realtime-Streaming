{
 "cells": [
  {
   "cell_type": "code",
   "execution_count": 1,
   "id": "afe4e49d",
   "metadata": {},
   "outputs": [],
   "source": [
    "import pyspark\n",
    "from pyspark.sql import SparkSession\n",
    "from pyspark.sql.types import StructField , StructType , StringType , IntegerType , ArrayType , LongType\n",
    "from pyspark.sql.functions import from_json , col , explode\n",
    "\n"
   ]
  },
  {
   "cell_type": "code",
   "execution_count": 5,
   "id": "78d64d8f",
   "metadata": {},
   "outputs": [
    {
     "name": "stderr",
     "output_type": "stream",
     "text": [
      "25/10/29 17:54:12 WARN SparkSession: Using an existing Spark session; only runtime SQL configurations will take effect.\n"
     ]
    }
   ],
   "source": [
    "spark = (\n",
    "    SparkSession.builder\n",
    "    .appName(\"Streaming from Kafka\")\n",
    "    .config(\"spark.streaming.stopGracefullyOnShutdown\", \"true\")\n",
    "    .config(\"spark.jars.packages\", \"org.apache.spark:spark-sql-kafka-0-10_2.13:4.0.1\")\n",
    "    .config(\"spark.jars\" , '/home/mhai/test/postgresql-42.7.3.jar')\n",
    "    .config(\"spark.sql.shuffle.partitions\", \"5\")\n",
    "    .master(\"local[*]\")\n",
    "    .getOrCreate()\n",
    ")\n"
   ]
  },
  {
   "cell_type": "code",
   "execution_count": 3,
   "id": "7b4744d8",
   "metadata": {},
   "outputs": [
    {
     "data": {
      "text/html": [
       "\n",
       "            <div>\n",
       "                <p><b>SparkSession - in-memory</b></p>\n",
       "                \n",
       "        <div>\n",
       "            <p><b>SparkContext</b></p>\n",
       "\n",
       "            <p><a href=\"http://10.255.255.254:4040\">Spark UI</a></p>\n",
       "\n",
       "            <dl>\n",
       "              <dt>Version</dt>\n",
       "                <dd><code>v4.0.1</code></dd>\n",
       "              <dt>Master</dt>\n",
       "                <dd><code>local[*]</code></dd>\n",
       "              <dt>AppName</dt>\n",
       "                <dd><code>Streaming from Kafka</code></dd>\n",
       "            </dl>\n",
       "        </div>\n",
       "        \n",
       "            </div>\n",
       "        "
      ],
      "text/plain": [
       "<pyspark.sql.session.SparkSession at 0x72bf7427f3e0>"
      ]
     },
     "execution_count": 3,
     "metadata": {},
     "output_type": "execute_result"
    }
   ],
   "source": [
    "spark"
   ]
  },
  {
   "cell_type": "code",
   "execution_count": 4,
   "id": "6c8da8e9",
   "metadata": {},
   "outputs": [
    {
     "name": "stdout",
     "output_type": "stream",
     "text": [
      "List(spark://10.255.255.254:44879/jars/postgresql-42.7.3.jar)\n"
     ]
    }
   ],
   "source": [
    "print(spark.sparkContext._jsc.sc().listJars())\n"
   ]
  },
  {
   "cell_type": "code",
   "execution_count": null,
   "id": "b712c781",
   "metadata": {},
   "outputs": [],
   "source": [
    "device = spark.readStream.format('kafka') \\\n",
    "                   .option('kafka.bootstrap.servers' , '172.23.152.231:9092') \\\n",
    "                   .option('subscribe' , 'device-data') \\\n",
    "                   .option('startingOffsets' , 'earliest') \\\n",
    "                   .load()"
   ]
  },
  {
   "cell_type": "code",
   "execution_count": null,
   "id": "71c1c60f",
   "metadata": {},
   "outputs": [],
   "source": [
    "device.printSchema()"
   ]
  },
  {
   "cell_type": "code",
   "execution_count": null,
   "id": "d6d92723",
   "metadata": {},
   "outputs": [],
   "source": [
    "device = device.withColumn('value' , device['value'].cast('string'))"
   ]
  },
  {
   "cell_type": "code",
   "execution_count": null,
   "id": "051e6d65",
   "metadata": {},
   "outputs": [],
   "source": [
    "device.printSchema()"
   ]
  },
  {
   "cell_type": "code",
   "execution_count": null,
   "id": "13bd953a",
   "metadata": {},
   "outputs": [],
   "source": [
    "device_schema = StructType(\n",
    "    [\n",
    "        StructField('customerId' , StringType() , True) ,\n",
    "        StructField('data' , StructType(\n",
    "            [StructField('devices' ,\n",
    "                ArrayType(StructType([\n",
    "                    StructField('deviceId' , StringType() , True) ,\n",
    "                    StructField('measure' , StringType() , True) ,\n",
    "                    StructField('status' , StringType() , True) ,\n",
    "                    StructField('temperature' , StringType() , True)\n",
    "                ]),True ) , True ) \n",
    "            ]) , True) ,\n",
    "        StructField('eventId' , StringType() , True) ,\n",
    "        StructField('eventOffset' , LongType() , True) ,\n",
    "        StructField('eventPublisher' , StringType() , True) ,\n",
    "        StructField('eventTime' , StringType(), True )          \n",
    "    ]\n",
    ")"
   ]
  },
  {
   "cell_type": "code",
   "execution_count": null,
   "id": "a244749c",
   "metadata": {},
   "outputs": [],
   "source": [
    "device = device.withColumn('value_json' , from_json(col('value') , device_schema)).select('value_json.*')"
   ]
  },
  {
   "cell_type": "code",
   "execution_count": null,
   "id": "5b881b81",
   "metadata": {},
   "outputs": [],
   "source": [
    "device_explode = device.withColumn('devices' , explode(col('data.devices')))"
   ]
  },
  {
   "cell_type": "code",
   "execution_count": null,
   "id": "8b75c0b2",
   "metadata": {},
   "outputs": [],
   "source": [
    "device = device_explode.withColumn('deviceId', col('devices.deviceId')) \\\n",
    "                        .withColumn('measure', col('devices.measure')) \\\n",
    "                        .withColumn('status', col('devices.status')) \\\n",
    "                        .withColumn('temperature', col('devices.temperature')) \\\n",
    "                        .drop('data') \\\n",
    "                        .drop('devices')"
   ]
  },
  {
   "cell_type": "code",
   "execution_count": null,
   "id": "f4bc8581",
   "metadata": {},
   "outputs": [],
   "source": [
    "def save_psql(data , batch_id) :\n",
    "    print('batch id : ' , str(batch_id))    \n",
    "    data.write.format('jdbc') \\\n",
    "            .mode('append') \\\n",
    "            .option('driver' , 'org.postgresql.Driver') \\\n",
    "            .option('url' , 'jdbc:postgresql://192.168.1.5:5432/test') \\\n",
    "            .option('dbtable' , 'public.device_data') \\\n",
    "            .option('user' , 'postgres') \\\n",
    "            .option('password' , 'MINHHAI123') \\\n",
    "            .save()\n",
    "    data.show()\n",
    "    \n",
    "    "
   ]
  },
  {
   "cell_type": "code",
   "execution_count": null,
   "id": "85917a8e",
   "metadata": {},
   "outputs": [],
   "source": [
    "device.printSchema()"
   ]
  },
  {
   "cell_type": "code",
   "execution_count": null,
   "id": "bfde10de",
   "metadata": {},
   "outputs": [],
   "source": [
    "device.writeStream \\\n",
    "        .foreachBatch(save_psql) \\\n",
    "        .outputMode('append') \\\n",
    "        .trigger(processingTime = '10 seconds') \\\n",
    "        .option('checkpointLocation' , 'checkpoint_dir_kafka') \\\n",
    "        .start() \\\n",
    "        .awaitTermination() "
   ]
  }
 ],
 "metadata": {
  "kernelspec": {
   "display_name": "venv (3.12.3)",
   "language": "python",
   "name": "python3"
  },
  "language_info": {
   "codemirror_mode": {
    "name": "ipython",
    "version": 3
   },
   "file_extension": ".py",
   "mimetype": "text/x-python",
   "name": "python",
   "nbconvert_exporter": "python",
   "pygments_lexer": "ipython3",
   "version": "3.12.3"
  }
 },
 "nbformat": 4,
 "nbformat_minor": 5
}
