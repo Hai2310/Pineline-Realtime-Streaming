{
 "cells": [
  {
   "cell_type": "code",
   "execution_count": 1,
   "id": "2f45833b",
   "metadata": {},
   "outputs": [],
   "source": [
    "import pyspark\n",
    "from pyspark.sql import SparkSession\n",
    "from pyspark.sql.types import StructField , StructType , StringType , IntegerType , ArrayType , LongType\n",
    "from pyspark.sql.functions import from_json , col , explode\n",
    "\n"
   ]
  },
  {
   "cell_type": "code",
   "execution_count": 2,
   "id": "78d64d8f",
   "metadata": {},
   "outputs": [
    {
     "name": "stderr",
     "output_type": "stream",
     "text": [
      "WARNING: Using incubator modules: jdk.incubator.vector\n",
      "Using Spark's default log4j profile: org/apache/spark/log4j2-defaults.properties\n",
      "25/10/28 22:05:28 WARN Utils: Your hostname, Admin-PC, resolves to a loopback address: 127.0.1.1; using 10.255.255.254 instead (on interface lo)\n",
      "25/10/28 22:05:28 WARN Utils: Set SPARK_LOCAL_IP if you need to bind to another address\n",
      ":: loading settings :: url = jar:file:/home/mhai/spark/jars/ivy-2.5.3.jar!/org/apache/ivy/core/settings/ivysettings.xml\n",
      "Ivy Default Cache set to: /home/mhai/.ivy2.5.2/cache\n",
      "The jars for the packages stored in: /home/mhai/.ivy2.5.2/jars\n",
      "org.apache.spark#spark-sql-kafka-0-10_2.13 added as a dependency\n",
      ":: resolving dependencies :: org.apache.spark#spark-submit-parent-22add1c0-3b93-4179-a848-75407d0bca43;1.0\n",
      "\tconfs: [default]\n",
      "\tfound org.apache.spark#spark-sql-kafka-0-10_2.13;4.0.1 in central\n",
      "\tfound org.apache.spark#spark-token-provider-kafka-0-10_2.13;4.0.1 in central\n",
      "\tfound org.apache.kafka#kafka-clients;3.9.1 in central\n",
      "\tfound org.lz4#lz4-java;1.8.0 in central\n",
      "\tfound org.xerial.snappy#snappy-java;1.1.10.7 in central\n",
      "\tfound org.slf4j#slf4j-api;2.0.16 in central\n",
      "\tfound org.apache.hadoop#hadoop-client-runtime;3.4.1 in central\n",
      "\tfound org.apache.hadoop#hadoop-client-api;3.4.1 in central\n",
      "\tfound com.google.code.findbugs#jsr305;3.0.0 in central\n",
      "\tfound org.scala-lang.modules#scala-parallel-collections_2.13;1.2.0 in central\n",
      "\tfound org.apache.commons#commons-pool2;2.12.0 in central\n",
      ":: resolution report :: resolve 391ms :: artifacts dl 15ms\n",
      "\t:: modules in use:\n",
      "\tcom.google.code.findbugs#jsr305;3.0.0 from central in [default]\n",
      "\torg.apache.commons#commons-pool2;2.12.0 from central in [default]\n",
      "\torg.apache.hadoop#hadoop-client-api;3.4.1 from central in [default]\n",
      "\torg.apache.hadoop#hadoop-client-runtime;3.4.1 from central in [default]\n",
      "\torg.apache.kafka#kafka-clients;3.9.1 from central in [default]\n",
      "\torg.apache.spark#spark-sql-kafka-0-10_2.13;4.0.1 from central in [default]\n",
      "\torg.apache.spark#spark-token-provider-kafka-0-10_2.13;4.0.1 from central in [default]\n",
      "\torg.lz4#lz4-java;1.8.0 from central in [default]\n",
      "\torg.scala-lang.modules#scala-parallel-collections_2.13;1.2.0 from central in [default]\n",
      "\torg.slf4j#slf4j-api;2.0.16 from central in [default]\n",
      "\torg.xerial.snappy#snappy-java;1.1.10.7 from central in [default]\n",
      "\t---------------------------------------------------------------------\n",
      "\t|                  |            modules            ||   artifacts   |\n",
      "\t|       conf       | number| search|dwnlded|evicted|| number|dwnlded|\n",
      "\t---------------------------------------------------------------------\n",
      "\t|      default     |   11  |   0   |   0   |   0   ||   11  |   0   |\n",
      "\t---------------------------------------------------------------------\n",
      ":: retrieving :: org.apache.spark#spark-submit-parent-22add1c0-3b93-4179-a848-75407d0bca43\n",
      "\tconfs: [default]\n",
      "\t0 artifacts copied, 11 already retrieved (0kB/10ms)\n",
      "25/10/28 22:05:29 WARN NativeCodeLoader: Unable to load native-hadoop library for your platform... using builtin-java classes where applicable\n",
      "Using Spark's default log4j profile: org/apache/spark/log4j2-defaults.properties\n",
      "Setting default log level to \"WARN\".\n",
      "To adjust logging level use sc.setLogLevel(newLevel). For SparkR, use setLogLevel(newLevel).\n"
     ]
    }
   ],
   "source": [
    "spark = (\n",
    "    SparkSession.builder\n",
    "    .appName(\"Streaming from Kafka\")\n",
    "    .config(\"spark.streaming.stopGracefullyOnShutdown\", \"true\")\n",
    "    .config(\"spark.jars.packages\", \"org.apache.spark:spark-sql-kafka-0-10_2.13:4.0.1\")\n",
    "    .config(\"spark.jars\" , '/home/mhai/test/postgresql-42.7.3.jar')\n",
    "    .config(\"spark.sql.shuffle.partitions\", \"5\")\n",
    "    .master(\"local[*]\")\n",
    "    .getOrCreate()\n",
    ")\n"
   ]
  },
  {
   "cell_type": "code",
   "execution_count": 3,
   "id": "6bb118a7",
   "metadata": {},
   "outputs": [
    {
     "data": {
      "text/html": [
       "\n",
       "            <div>\n",
       "                <p><b>SparkSession - in-memory</b></p>\n",
       "                \n",
       "        <div>\n",
       "            <p><b>SparkContext</b></p>\n",
       "\n",
       "            <p><a href=\"http://10.255.255.254:4040\">Spark UI</a></p>\n",
       "\n",
       "            <dl>\n",
       "              <dt>Version</dt>\n",
       "                <dd><code>v4.0.1</code></dd>\n",
       "              <dt>Master</dt>\n",
       "                <dd><code>local[*]</code></dd>\n",
       "              <dt>AppName</dt>\n",
       "                <dd><code>Streaming from Kafka</code></dd>\n",
       "            </dl>\n",
       "        </div>\n",
       "        \n",
       "            </div>\n",
       "        "
      ],
      "text/plain": [
       "<pyspark.sql.session.SparkSession at 0x7da9d25bf9e0>"
      ]
     },
     "execution_count": 3,
     "metadata": {},
     "output_type": "execute_result"
    }
   ],
   "source": [
    "spark\n",
    "    \n"
   ]
  },
  {
   "cell_type": "code",
   "execution_count": 3,
   "id": "6c8da8e9",
   "metadata": {},
   "outputs": [
    {
     "name": "stdout",
     "output_type": "stream",
     "text": [
      "List(spark://10.255.255.254:41785/jars/org.apache.spark_spark-sql-kafka-0-10_2.13-4.0.1.jar, spark://10.255.255.254:41785/jars/org.apache.hadoop_hadoop-client-runtime-3.4.1.jar, spark://10.255.255.254:41785/jars/com.google.code.findbugs_jsr305-3.0.0.jar, spark://10.255.255.254:41785/jars/org.apache.commons_commons-pool2-2.12.0.jar, spark://10.255.255.254:41785/jars/org.xerial.snappy_snappy-java-1.1.10.7.jar, spark://10.255.255.254:41785/jars/org.slf4j_slf4j-api-2.0.16.jar, spark://10.255.255.254:41785/jars/org.apache.kafka_kafka-clients-3.9.1.jar, spark://10.255.255.254:41785/jars/org.lz4_lz4-java-1.8.0.jar, spark://10.255.255.254:41785/jars/org.apache.spark_spark-token-provider-kafka-0-10_2.13-4.0.1.jar, spark://10.255.255.254:41785/jars/org.scala-lang.modules_scala-parallel-collections_2.13-1.2.0.jar, spark://10.255.255.254:41785/jars/org.apache.hadoop_hadoop-client-api-3.4.1.jar)\n"
     ]
    }
   ],
   "source": [
    "print(spark.sparkContext._jsc.sc().listJars())\n"
   ]
  },
  {
   "cell_type": "code",
   "execution_count": 63,
   "id": "b712c781",
   "metadata": {},
   "outputs": [],
   "source": [
    "device = spark.readStream.format('kafka') \\\n",
    "                   .option('kafka.bootstrap.servers' , '172.23.152.231:9092') \\\n",
    "                   .option('subscribe' , 'device-data') \\\n",
    "                   .option('startingOffsets' , 'earliest') \\\n",
    "                   .load()"
   ]
  },
  {
   "cell_type": "code",
   "execution_count": 64,
   "id": "71c1c60f",
   "metadata": {},
   "outputs": [
    {
     "name": "stdout",
     "output_type": "stream",
     "text": [
      "root\n",
      " |-- key: binary (nullable = true)\n",
      " |-- value: binary (nullable = true)\n",
      " |-- topic: string (nullable = true)\n",
      " |-- partition: integer (nullable = true)\n",
      " |-- offset: long (nullable = true)\n",
      " |-- timestamp: timestamp (nullable = true)\n",
      " |-- timestampType: integer (nullable = true)\n",
      "\n"
     ]
    }
   ],
   "source": [
    "device.printSchema()"
   ]
  },
  {
   "cell_type": "code",
   "execution_count": 65,
   "id": "d6d92723",
   "metadata": {},
   "outputs": [],
   "source": [
    "device = device.withColumn('value' , device['value'].cast('string'))"
   ]
  },
  {
   "cell_type": "code",
   "execution_count": 66,
   "id": "051e6d65",
   "metadata": {},
   "outputs": [
    {
     "name": "stdout",
     "output_type": "stream",
     "text": [
      "root\n",
      " |-- key: binary (nullable = true)\n",
      " |-- value: string (nullable = true)\n",
      " |-- topic: string (nullable = true)\n",
      " |-- partition: integer (nullable = true)\n",
      " |-- offset: long (nullable = true)\n",
      " |-- timestamp: timestamp (nullable = true)\n",
      " |-- timestampType: integer (nullable = true)\n",
      "\n"
     ]
    }
   ],
   "source": [
    "device.printSchema()"
   ]
  },
  {
   "cell_type": "code",
   "execution_count": 67,
   "id": "13bd953a",
   "metadata": {},
   "outputs": [],
   "source": [
    "device_schema = StructType(\n",
    "    [\n",
    "        StructField('customerId' , StringType() , True) ,\n",
    "        StructField('data' , StructType(\n",
    "            [StructField('devices' ,\n",
    "                ArrayType(StructType([\n",
    "                    StructField('deviceId' , StringType() , True) ,\n",
    "                    StructField('measure' , StringType() , True) ,\n",
    "                    StructField('status' , StringType() , True) ,\n",
    "                    StructField('temperature' , StringType() , True)\n",
    "                ]),True ) , True ) \n",
    "            ]) , True) ,\n",
    "        StructField('eventId' , StringType() , True) ,\n",
    "        StructField('eventOffset' , LongType() , True) ,\n",
    "        StructField('eventPublisher' , StringType() , True) ,\n",
    "        StructField('eventTime' , StringType(), True )          \n",
    "    ]\n",
    ")"
   ]
  },
  {
   "cell_type": "code",
   "execution_count": 68,
   "id": "a244749c",
   "metadata": {},
   "outputs": [],
   "source": [
    "device = device.withColumn('value_json' , from_json(col('value') , device_schema)).select('value_json.*')"
   ]
  },
  {
   "cell_type": "code",
   "execution_count": 69,
   "id": "5b881b81",
   "metadata": {},
   "outputs": [],
   "source": [
    "device_explode = device.withColumn('devices' , explode(col('data.devices')))"
   ]
  },
  {
   "cell_type": "code",
   "execution_count": 70,
   "id": "8b75c0b2",
   "metadata": {},
   "outputs": [],
   "source": [
    "device = device_explode.withColumn('deviceId', col('devices.deviceId')) \\\n",
    "                        .withColumn('measure', col('devices.measure')) \\\n",
    "                        .withColumn('status', col('devices.status')) \\\n",
    "                        .withColumn('temperature', col('devices.temperature')) \\\n",
    "                        .drop('data') \\\n",
    "                        .drop('devices')"
   ]
  },
  {
   "cell_type": "code",
   "execution_count": 71,
   "id": "f4bc8581",
   "metadata": {},
   "outputs": [],
   "source": [
    "def save_psql(data , batch_id) :\n",
    "    print('batch id : ' , str(batch_id))    \n",
    "    data.write.format('jdbc') \\\n",
    "            .mode('append') \\\n",
    "            .option('driver' , 'org.postgresql.Driver') \\\n",
    "            .option('url' , 'jdbc:postgresql://192.168.1.5:5432/test') \\\n",
    "            .option('dbtable' , 'public.device_data') \\\n",
    "            .option('user' , 'postgres') \\\n",
    "            .option('password' , 'MINHHAI123') \\\n",
    "            .save()\n",
    "    data.show()\n",
    "    "
   ]
  },
  {
   "cell_type": "code",
   "execution_count": 73,
   "id": "85917a8e",
   "metadata": {},
   "outputs": [
    {
     "name": "stdout",
     "output_type": "stream",
     "text": [
      "root\n",
      " |-- customerId: string (nullable = true)\n",
      " |-- eventId: string (nullable = true)\n",
      " |-- eventOffset: long (nullable = true)\n",
      " |-- eventPublisher: string (nullable = true)\n",
      " |-- eventTime: string (nullable = true)\n",
      " |-- deviceId: string (nullable = true)\n",
      " |-- measure: string (nullable = true)\n",
      " |-- status: string (nullable = true)\n",
      " |-- temperature: string (nullable = true)\n",
      "\n"
     ]
    }
   ],
   "source": [
    "device.printSchema()"
   ]
  },
  {
   "cell_type": "code",
   "execution_count": null,
   "id": "bfde10de",
   "metadata": {},
   "outputs": [
    {
     "name": "stdout",
     "output_type": "stream",
     "text": [
      "batch id :  0\n"
     ]
    },
    {
     "name": "stderr",
     "output_type": "stream",
     "text": [
      "25/10/28 22:42:25 WARN ResolveWriteToStream: spark.sql.adaptive.enabled is not supported in streaming DataFrames/Datasets and will be disabled.\n",
      "                                                                                \r"
     ]
    },
    {
     "name": "stdout",
     "output_type": "stream",
     "text": [
      "+----------+--------------------+-----------+--------------+--------------------+--------+-------+--------+-----------+\n",
      "|customerId|             eventId|eventOffset|eventPublisher|           eventTime|deviceId|measure|  status|temperature|\n",
      "+----------+--------------------+-----------+--------------+--------------------+--------+-------+--------+-----------+\n",
      "|   CI00103|e3cb26d3-41b2-49a...|      10001|        device|2023-01-05 11:13:...|    D001|      C|   ERROR|         15|\n",
      "|   CI00103|e3cb26d3-41b2-49a...|      10001|        device|2023-01-05 11:13:...|    D002|      C| SUCCESS|         16|\n",
      "|   CI00101|1450324a-c546-417...|      10038|        device|2023-01-05 11:13:...|    D004|      C| SUCCESS|         20|\n",
      "|   CI00101|1450324a-c546-417...|      10038|        device|2023-01-05 11:13:...|    D004|      C| SUCCESS|          1|\n",
      "|   CI00101|1450324a-c546-417...|      10038|        device|2023-01-05 11:13:...|    D002|      C| SUCCESS|         21|\n",
      "|   CI00108|aa90011f-3967-496...|      10003|        device|2023-01-05 11:13:...|    D004|      C| SUCCESS|         16|\n",
      "|   CI00103|e3cb26d3-41b2-49a...|      10001|        device|2023-01-05 11:13:...|    D001|      C|   ERROR|         15|\n",
      "|   CI00103|e3cb26d3-41b2-49a...|      10001|        device|2023-01-05 11:13:...|    D002|      C| SUCCESS|         16|\n",
      "|   CI00189|a24c5077-9124-471...|      10000|        device|2025-10-28 17:34:...|       v|      C|   ERROR|         23|\n",
      "|   CI00251|de3c48a3-857d-42b...|      10001|        device|2025-10-28 17:34:...|       I|      C|STRANDBY|          4|\n",
      "|   CI00251|de3c48a3-857d-42b...|      10001|        device|2025-10-28 17:34:...|       e|      C| SUCCESS|         39|\n",
      "|   CI00251|de3c48a3-857d-42b...|      10001|        device|2025-10-28 17:34:...|       e|      C|    NULL|         13|\n",
      "|   CI00101|1450324a-c546-417...|      10038|        device|2023-01-05 11:13:...|    D004|      C| SUCCESS|         20|\n",
      "|   CI00101|1450324a-c546-417...|      10038|        device|2023-01-05 11:13:...|    D004|      C| SUCCESS|          1|\n",
      "|   CI00101|1450324a-c546-417...|      10038|        device|2023-01-05 11:13:...|    D002|      C| SUCCESS|         21|\n",
      "|   CI00240|f99be699-2aeb-403...|      10000|        device|2025-10-28 17:57:...|       _|      C|    NULL|         26|\n",
      "|   CI00240|f99be699-2aeb-403...|      10000|        device|2025-10-28 17:57:...|       c|      C|STRANDBY|         26|\n",
      "|   CI00240|f99be699-2aeb-403...|      10000|        device|2025-10-28 17:57:...|       v|      C|    NULL|         30|\n",
      "|   CI00240|f99be699-2aeb-403...|      10000|        device|2025-10-28 17:57:...|       _|      C| SUCCESS|         43|\n",
      "|   CI00298|cf812bec-3563-494...|      10001|        device|2025-10-28 17:57:...|       I|      C|    NULL|         47|\n",
      "+----------+--------------------+-----------+--------------+--------------------+--------+-------+--------+-----------+\n",
      "only showing top 20 rows\n",
      "batch id :  1\n"
     ]
    },
    {
     "name": "stderr",
     "output_type": "stream",
     "text": [
      "                                                                                \r"
     ]
    },
    {
     "name": "stdout",
     "output_type": "stream",
     "text": [
      "+----------+--------------------+-----------+--------------+--------------------+--------+-------+--------+-----------+\n",
      "|customerId|             eventId|eventOffset|eventPublisher|           eventTime|deviceId|measure|  status|temperature|\n",
      "+----------+--------------------+-----------+--------------+--------------------+--------+-------+--------+-----------+\n",
      "|   CI00217|5ae70448-0459-4c0...|      10000|        device|2025-10-28 22:45:...|       v|      C|STRANDBY|         30|\n",
      "|   CI00217|5ae70448-0459-4c0...|      10000|        device|2025-10-28 22:45:...|       e|      C| SUCCESS|         49|\n",
      "|   CI00217|5ae70448-0459-4c0...|      10000|        device|2025-10-28 22:45:...|       c|      C|    NULL|         40|\n",
      "+----------+--------------------+-----------+--------------+--------------------+--------+-------+--------+-----------+\n",
      "\n",
      "batch id :  2\n",
      "+----------+--------------------+-----------+--------------+--------------------+--------+-------+--------+-----------+\n",
      "|customerId|             eventId|eventOffset|eventPublisher|           eventTime|deviceId|measure|  status|temperature|\n",
      "+----------+--------------------+-----------+--------------+--------------------+--------+-------+--------+-----------+\n",
      "|   CI00205|a96ba1fe-05d2-49d...|      10001|        device|2025-10-28 22:45:...|       d|      C|   ERROR|          9|\n",
      "|   CI00277|99517eea-af7c-4e0...|      10002|        device|2025-10-28 22:45:...|       i|      C|    NULL|         19|\n",
      "|   CI00277|99517eea-af7c-4e0...|      10002|        device|2025-10-28 22:45:...|       e|      C| SUCCESS|          4|\n",
      "|   CI00277|99517eea-af7c-4e0...|      10002|        device|2025-10-28 22:45:...|       c|      C|STRANDBY|         42|\n",
      "|   CI00277|99517eea-af7c-4e0...|      10002|        device|2025-10-28 22:45:...|       I|      C|    NULL|         35|\n",
      "+----------+--------------------+-----------+--------------+--------------------+--------+-------+--------+-----------+\n",
      "\n",
      "batch id :  3\n",
      "+----------+--------------------+-----------+--------------+--------------------+--------+-------+--------+-----------+\n",
      "|customerId|             eventId|eventOffset|eventPublisher|           eventTime|deviceId|measure|  status|temperature|\n",
      "+----------+--------------------+-----------+--------------+--------------------+--------+-------+--------+-----------+\n",
      "|   CI00160|31dda74b-29d9-413...|      10003|        device|2025-10-28 22:45:...|       d|      C| SUCCESS|          8|\n",
      "|   CI00160|31dda74b-29d9-413...|      10003|        device|2025-10-28 22:45:...|       v|      C|   ERROR|         34|\n",
      "|   CI00160|31dda74b-29d9-413...|      10003|        device|2025-10-28 22:45:...|       d|      C|   ERROR|          0|\n",
      "|   CI00160|31dda74b-29d9-413...|      10003|        device|2025-10-28 22:45:...|       d|      C|STRANDBY|         37|\n",
      "|   CI00160|31dda74b-29d9-413...|      10003|        device|2025-10-28 22:45:...|       e|      C| SUCCESS|         44|\n",
      "|   CI00233|a7863497-db2f-44e...|      10004|        device|2025-10-28 22:45:...|       c|      C| SUCCESS|         38|\n",
      "|   CI00233|a7863497-db2f-44e...|      10004|        device|2025-10-28 22:45:...|       D|      C|STRANDBY|          3|\n",
      "|   CI00233|a7863497-db2f-44e...|      10004|        device|2025-10-28 22:45:...|       I|      C|   ERROR|         32|\n",
      "|   CI00233|a7863497-db2f-44e...|      10004|        device|2025-10-28 22:45:...|       i|      C|    NULL|         42|\n",
      "|   CI00233|a7863497-db2f-44e...|      10004|        device|2025-10-28 22:45:...|       e|      C|    NULL|         48|\n",
      "|   CI00217|e24217dd-afdb-4f3...|      10005|        device|2025-10-28 22:45:...|       e|      C|STRANDBY|         28|\n",
      "|   CI00223|6a55a449-593b-402...|      10006|        device|2025-10-28 22:45:...|       i|      C|STRANDBY|         37|\n",
      "+----------+--------------------+-----------+--------------+--------------------+--------+-------+--------+-----------+\n",
      "\n",
      "batch id :  4\n"
     ]
    },
    {
     "name": "stderr",
     "output_type": "stream",
     "text": [
      "                                                                                \r"
     ]
    },
    {
     "name": "stdout",
     "output_type": "stream",
     "text": [
      "+----------+--------------------+-----------+--------------+--------------------+--------+-------+-------+-----------+\n",
      "|customerId|             eventId|eventOffset|eventPublisher|           eventTime|deviceId|measure| status|temperature|\n",
      "+----------+--------------------+-----------+--------------+--------------------+--------+-------+-------+-----------+\n",
      "|   CI00298|9189c37c-2633-40c...|      10007|        device|2025-10-28 22:45:...|       c|      C|   NULL|         24|\n",
      "|   CI00298|9189c37c-2633-40c...|      10007|        device|2025-10-28 22:45:...|       e|      C|SUCCESS|          4|\n",
      "|   CI00298|9189c37c-2633-40c...|      10007|        device|2025-10-28 22:45:...|       v|      C|  ERROR|         23|\n",
      "|   CI00238|c698ea95-e282-45b...|      10008|        device|2025-10-28 22:45:...|       i|      C|   NULL|          4|\n",
      "|   CI00238|c698ea95-e282-45b...|      10008|        device|2025-10-28 22:45:...|       I|      C|  ERROR|         48|\n",
      "|   CI00238|c698ea95-e282-45b...|      10008|        device|2025-10-28 22:45:...|       v|      C|  ERROR|         26|\n",
      "|   CI00238|c698ea95-e282-45b...|      10008|        device|2025-10-28 22:45:...|       d|      C|  ERROR|         49|\n",
      "|   CI00238|c698ea95-e282-45b...|      10008|        device|2025-10-28 22:45:...|       c|      C|  ERROR|         20|\n",
      "|   CI00220|0cf8b5e3-4557-4e1...|      10009|        device|2025-10-28 22:45:...|       e|      C|SUCCESS|         35|\n",
      "+----------+--------------------+-----------+--------------+--------------------+--------+-------+-------+-----------+\n",
      "\n",
      "batch id :  5\n"
     ]
    },
    {
     "name": "stderr",
     "output_type": "stream",
     "text": [
      "                                                                                \r"
     ]
    },
    {
     "name": "stdout",
     "output_type": "stream",
     "text": [
      "+----------+--------------------+-----------+--------------+--------------------+--------+-------+--------+-----------+\n",
      "|customerId|             eventId|eventOffset|eventPublisher|           eventTime|deviceId|measure|  status|temperature|\n",
      "+----------+--------------------+-----------+--------------+--------------------+--------+-------+--------+-----------+\n",
      "|   CI00201|8b8e6f6b-5de1-4b8...|      10010|        device|2025-10-28 22:46:...|       d|      C|STRANDBY|         47|\n",
      "|   CI00201|8b8e6f6b-5de1-4b8...|      10010|        device|2025-10-28 22:46:...|       _|      C|   ERROR|         48|\n",
      "|   CI00201|8b8e6f6b-5de1-4b8...|      10010|        device|2025-10-28 22:46:...|       d|      C|    NULL|         48|\n",
      "|   CI00206|404ec4a0-f5be-484...|      10011|        device|2025-10-28 22:46:...|       e|      C| SUCCESS|         23|\n",
      "|   CI00206|404ec4a0-f5be-484...|      10011|        device|2025-10-28 22:46:...|       e|      C|   ERROR|         25|\n",
      "|   CI00206|404ec4a0-f5be-484...|      10011|        device|2025-10-28 22:46:...|       e|      C| SUCCESS|         46|\n",
      "|   CI00217|98c51eb4-26dd-4ee...|      10012|        device|2025-10-28 22:46:...|       i|      C|    NULL|         10|\n",
      "|   CI00217|98c51eb4-26dd-4ee...|      10012|        device|2025-10-28 22:46:...|       I|      C|    NULL|         21|\n",
      "|   CI00217|98c51eb4-26dd-4ee...|      10012|        device|2025-10-28 22:46:...|       v|      C|STRANDBY|         45|\n",
      "|   CI00217|98c51eb4-26dd-4ee...|      10012|        device|2025-10-28 22:46:...|       e|      C|   ERROR|         48|\n",
      "+----------+--------------------+-----------+--------------+--------------------+--------+-------+--------+-----------+\n",
      "\n",
      "batch id :  6\n"
     ]
    },
    {
     "name": "stderr",
     "output_type": "stream",
     "text": [
      "                                                                                \r"
     ]
    },
    {
     "name": "stdout",
     "output_type": "stream",
     "text": [
      "+----------+--------------------+-----------+--------------+--------------------+--------+-------+--------+-----------+\n",
      "|customerId|             eventId|eventOffset|eventPublisher|           eventTime|deviceId|measure|  status|temperature|\n",
      "+----------+--------------------+-----------+--------------+--------------------+--------+-------+--------+-----------+\n",
      "|   CI00272|3ad73714-2e93-431...|      10013|        device|2025-10-28 22:46:...|       i|      C|   ERROR|         28|\n",
      "|   CI00244|ed0e79b3-a5ef-4cb...|      10014|        device|2025-10-28 22:46:...|       _|      C|STRANDBY|         34|\n",
      "|   CI00249|f94a2e10-bde1-4bc...|      10015|        device|2025-10-28 22:46:...|       c|      C|STRANDBY|         43|\n",
      "|   CI00249|f94a2e10-bde1-4bc...|      10015|        device|2025-10-28 22:46:...|       e|      C|STRANDBY|         35|\n",
      "|   CI00249|f94a2e10-bde1-4bc...|      10015|        device|2025-10-28 22:46:...|       e|      C|   ERROR|          9|\n",
      "|   CI00249|f94a2e10-bde1-4bc...|      10015|        device|2025-10-28 22:46:...|       c|      C| SUCCESS|         23|\n",
      "|   CI00249|f94a2e10-bde1-4bc...|      10015|        device|2025-10-28 22:46:...|       e|      C|   ERROR|         14|\n",
      "|   CI00279|80b28323-6982-4ea...|      10016|        device|2025-10-28 22:46:...|       i|      C| SUCCESS|         38|\n",
      "+----------+--------------------+-----------+--------------+--------------------+--------+-------+--------+-----------+\n",
      "\n",
      "batch id :  7\n"
     ]
    },
    {
     "name": "stderr",
     "output_type": "stream",
     "text": [
      "                                                                                \r"
     ]
    },
    {
     "name": "stdout",
     "output_type": "stream",
     "text": [
      "+----------+--------------------+-----------+--------------+--------------------+--------+-------+--------+-----------+\n",
      "|customerId|             eventId|eventOffset|eventPublisher|           eventTime|deviceId|measure|  status|temperature|\n",
      "+----------+--------------------+-----------+--------------+--------------------+--------+-------+--------+-----------+\n",
      "|   CI00228|d4b9ed04-5df2-455...|      10017|        device|2025-10-28 22:46:...|       i|      C| SUCCESS|         26|\n",
      "|   CI00228|d4b9ed04-5df2-455...|      10017|        device|2025-10-28 22:46:...|       d|      C|STRANDBY|         17|\n",
      "+----------+--------------------+-----------+--------------+--------------------+--------+-------+--------+-----------+\n",
      "\n",
      "batch id :  8\n"
     ]
    },
    {
     "name": "stderr",
     "output_type": "stream",
     "text": [
      "                                                                                \r"
     ]
    },
    {
     "name": "stdout",
     "output_type": "stream",
     "text": [
      "+----------+--------------------+-----------+--------------+--------------------+--------+-------+--------+-----------+\n",
      "|customerId|             eventId|eventOffset|eventPublisher|           eventTime|deviceId|measure|  status|temperature|\n",
      "+----------+--------------------+-----------+--------------+--------------------+--------+-------+--------+-----------+\n",
      "|   CI00200|3cecd312-1d7e-49a...|      10018|        device|2025-10-28 22:46:...|       d|      C|STRANDBY|         15|\n",
      "|   CI00200|3cecd312-1d7e-49a...|      10018|        device|2025-10-28 22:46:...|       _|      C|   ERROR|         23|\n",
      "|   CI00200|3cecd312-1d7e-49a...|      10018|        device|2025-10-28 22:46:...|       d|      C|   ERROR|         47|\n",
      "|   CI00200|3cecd312-1d7e-49a...|      10018|        device|2025-10-28 22:46:...|       e|      C|   ERROR|         37|\n",
      "|   CI00200|3cecd312-1d7e-49a...|      10018|        device|2025-10-28 22:46:...|       e|      C|   ERROR|         22|\n",
      "|   CI00142|a83aa5a2-1af0-42c...|      10019|        device|2025-10-28 22:46:...|       I|      C|    NULL|         30|\n",
      "|   CI00142|a83aa5a2-1af0-42c...|      10019|        device|2025-10-28 22:46:...|       e|      C| SUCCESS|         37|\n",
      "|   CI00142|a83aa5a2-1af0-42c...|      10019|        device|2025-10-28 22:46:...|       d|      C|STRANDBY|          6|\n",
      "|   CI00142|a83aa5a2-1af0-42c...|      10019|        device|2025-10-28 22:46:...|       v|      C|    NULL|         25|\n",
      "+----------+--------------------+-----------+--------------+--------------------+--------+-------+--------+-----------+\n",
      "\n",
      "batch id :  9\n"
     ]
    },
    {
     "name": "stderr",
     "output_type": "stream",
     "text": [
      "                                                                                \r"
     ]
    },
    {
     "name": "stdout",
     "output_type": "stream",
     "text": [
      "+----------+--------------------+-----------+--------------+--------------------+--------+-------+--------+-----------+\n",
      "|customerId|             eventId|eventOffset|eventPublisher|           eventTime|deviceId|measure|  status|temperature|\n",
      "+----------+--------------------+-----------+--------------+--------------------+--------+-------+--------+-----------+\n",
      "|   CI00196|a8dfb5b3-c15c-489...|      10020|        device|2025-10-28 22:46:...|       v|      C| SUCCESS|         10|\n",
      "|   CI00264|6f78176b-d16b-406...|      10021|        device|2025-10-28 22:46:...|       d|      C| SUCCESS|         25|\n",
      "|   CI00264|6f78176b-d16b-406...|      10021|        device|2025-10-28 22:46:...|       D|      C|    NULL|         47|\n",
      "|   CI00264|6f78176b-d16b-406...|      10021|        device|2025-10-28 22:46:...|       c|      C|STRANDBY|         32|\n",
      "|   CI00204|17d0bc44-5724-45a...|      10022|        device|2025-10-28 22:46:...|       D|      C|STRANDBY|         11|\n",
      "|   CI00204|17d0bc44-5724-45a...|      10022|        device|2025-10-28 22:46:...|       i|      C|   ERROR|         18|\n",
      "|   CI00204|17d0bc44-5724-45a...|      10022|        device|2025-10-28 22:46:...|       e|      C| SUCCESS|         21|\n",
      "|   CI00207|752532b1-75b9-41e...|      10023|        device|2025-10-28 22:46:...|       _|      C|   ERROR|         20|\n",
      "|   CI00207|752532b1-75b9-41e...|      10023|        device|2025-10-28 22:46:...|       d|      C|    NULL|         40|\n",
      "|   CI00207|752532b1-75b9-41e...|      10023|        device|2025-10-28 22:46:...|       c|      C| SUCCESS|          2|\n",
      "+----------+--------------------+-----------+--------------+--------------------+--------+-------+--------+-----------+\n",
      "\n",
      "batch id :  10\n"
     ]
    },
    {
     "name": "stderr",
     "output_type": "stream",
     "text": [
      "                                                                                \r"
     ]
    },
    {
     "name": "stdout",
     "output_type": "stream",
     "text": [
      "+----------+--------------------+-----------+--------------+--------------------+--------+-------+-------+-----------+\n",
      "|customerId|             eventId|eventOffset|eventPublisher|           eventTime|deviceId|measure| status|temperature|\n",
      "+----------+--------------------+-----------+--------------+--------------------+--------+-------+-------+-----------+\n",
      "|   CI00189|153f1b9e-4be3-4ee...|      10024|        device|2025-10-28 22:46:...|       i|      C|   NULL|         25|\n",
      "|   CI00189|153f1b9e-4be3-4ee...|      10024|        device|2025-10-28 22:46:...|       i|      C|  ERROR|          1|\n",
      "|   CI00139|08c6c951-8777-4ac...|      10025|        device|2025-10-28 22:46:...|       e|      C|SUCCESS|         49|\n",
      "|   CI00246|d2c821bc-8392-4d5...|      10026|        device|2025-10-28 22:46:...|       e|      C|   NULL|         44|\n",
      "+----------+--------------------+-----------+--------------+--------------------+--------+-------+-------+-----------+\n",
      "\n",
      "batch id :  11\n"
     ]
    },
    {
     "name": "stderr",
     "output_type": "stream",
     "text": [
      "                                                                                \r"
     ]
    },
    {
     "name": "stdout",
     "output_type": "stream",
     "text": [
      "+----------+--------------------+-----------+--------------+--------------------+--------+-------+--------+-----------+\n",
      "|customerId|             eventId|eventOffset|eventPublisher|           eventTime|deviceId|measure|  status|temperature|\n",
      "+----------+--------------------+-----------+--------------+--------------------+--------+-------+--------+-----------+\n",
      "|   CI00212|292d4b99-0e8a-485...|      10027|        device|2025-10-28 22:47:...|       i|      C|STRANDBY|         25|\n",
      "|   CI00212|292d4b99-0e8a-485...|      10027|        device|2025-10-28 22:47:...|       D|      C|STRANDBY|         31|\n",
      "|   CI00179|a25f28ea-1922-4db...|      10028|        device|2025-10-28 22:47:...|       _|      C|    NULL|         24|\n",
      "|   CI00179|a25f28ea-1922-4db...|      10028|        device|2025-10-28 22:47:...|       e|      C| SUCCESS|          3|\n",
      "+----------+--------------------+-----------+--------------+--------------------+--------+-------+--------+-----------+\n",
      "\n",
      "batch id :  12\n"
     ]
    },
    {
     "name": "stderr",
     "output_type": "stream",
     "text": [
      "                                                                                \r"
     ]
    },
    {
     "name": "stdout",
     "output_type": "stream",
     "text": [
      "+----------+--------------------+-----------+--------------+--------------------+--------+-------+-------+-----------+\n",
      "|customerId|             eventId|eventOffset|eventPublisher|           eventTime|deviceId|measure| status|temperature|\n",
      "+----------+--------------------+-----------+--------------+--------------------+--------+-------+-------+-----------+\n",
      "|   CI00178|ed833954-f1e6-413...|      10029|        device|2025-10-28 22:47:...|       v|      C|SUCCESS|          3|\n",
      "|   CI00178|ed833954-f1e6-413...|      10029|        device|2025-10-28 22:47:...|       c|      C|SUCCESS|         41|\n",
      "|   CI00178|ed833954-f1e6-413...|      10029|        device|2025-10-28 22:47:...|       D|      C|SUCCESS|          5|\n",
      "|   CI00278|11f64f62-904e-426...|      10030|        device|2025-10-28 22:47:...|       I|      C|SUCCESS|         38|\n",
      "|   CI00220|3f11beeb-296c-405...|      10031|        device|2025-10-28 22:47:...|       e|      C|   NULL|         11|\n",
      "|   CI00220|3f11beeb-296c-405...|      10031|        device|2025-10-28 22:47:...|       D|      C|  ERROR|         35|\n",
      "+----------+--------------------+-----------+--------------+--------------------+--------+-------+-------+-----------+\n",
      "\n",
      "batch id :  13\n",
      "+----------+--------------------+-----------+--------------+--------------------+--------+-------+--------+-----------+\n",
      "|customerId|             eventId|eventOffset|eventPublisher|           eventTime|deviceId|measure|  status|temperature|\n",
      "+----------+--------------------+-----------+--------------+--------------------+--------+-------+--------+-----------+\n",
      "|   CI00216|ace678f4-ccf9-41d...|      10032|        device|2025-10-28 22:47:...|       c|      C| SUCCESS|         34|\n",
      "|   CI00216|ace678f4-ccf9-41d...|      10032|        device|2025-10-28 22:47:...|       e|      C| SUCCESS|         10|\n",
      "|   CI00216|ace678f4-ccf9-41d...|      10032|        device|2025-10-28 22:47:...|       e|      C|   ERROR|         17|\n",
      "|   CI00216|ace678f4-ccf9-41d...|      10032|        device|2025-10-28 22:47:...|       v|      C|    NULL|          6|\n",
      "|   CI00283|218feee4-3023-47b...|      10033|        device|2025-10-28 22:47:...|       v|      C| SUCCESS|         19|\n",
      "|   CI00283|218feee4-3023-47b...|      10033|        device|2025-10-28 22:47:...|       _|      C|STRANDBY|         15|\n",
      "|   CI00283|218feee4-3023-47b...|      10033|        device|2025-10-28 22:47:...|       e|      C| SUCCESS|         35|\n",
      "|   CI00283|218feee4-3023-47b...|      10033|        device|2025-10-28 22:47:...|       d|      C|    NULL|         38|\n",
      "+----------+--------------------+-----------+--------------+--------------------+--------+-------+--------+-----------+\n",
      "\n",
      "batch id :  14\n"
     ]
    },
    {
     "name": "stderr",
     "output_type": "stream",
     "text": [
      "                                                                                \r"
     ]
    },
    {
     "name": "stdout",
     "output_type": "stream",
     "text": [
      "+----------+--------------------+-----------+--------------+--------------------+--------+-------+--------+-----------+\n",
      "|customerId|             eventId|eventOffset|eventPublisher|           eventTime|deviceId|measure|  status|temperature|\n",
      "+----------+--------------------+-----------+--------------+--------------------+--------+-------+--------+-----------+\n",
      "|   CI00189|2e77bcd0-56e9-45f...|      10034|        device|2025-10-28 22:47:...|       e|      C|STRANDBY|         49|\n",
      "|   CI00189|2e77bcd0-56e9-45f...|      10034|        device|2025-10-28 22:47:...|       e|      C|   ERROR|         29|\n",
      "|   CI00189|2e77bcd0-56e9-45f...|      10034|        device|2025-10-28 22:47:...|       v|      C|STRANDBY|         11|\n",
      "|   CI00281|b210ee9f-95e4-4d9...|      10035|        device|2025-10-28 22:47:...|       _|      C|STRANDBY|         34|\n",
      "|   CI00281|b210ee9f-95e4-4d9...|      10035|        device|2025-10-28 22:47:...|       d|      C|    NULL|         44|\n",
      "|   CI00281|b210ee9f-95e4-4d9...|      10035|        device|2025-10-28 22:47:...|       e|      C|STRANDBY|         16|\n",
      "|   CI00114|27e3387b-9b71-4ed...|      10036|        device|2025-10-28 22:47:...|       i|      C|STRANDBY|         45|\n",
      "|   CI00114|27e3387b-9b71-4ed...|      10036|        device|2025-10-28 22:47:...|       c|      C|   ERROR|         37|\n",
      "|   CI00114|27e3387b-9b71-4ed...|      10036|        device|2025-10-28 22:47:...|       _|      C|    NULL|          6|\n",
      "|   CI00257|bfaa2da4-3371-469...|      10037|        device|2025-10-28 22:47:...|       e|      C| SUCCESS|          7|\n",
      "|   CI00257|bfaa2da4-3371-469...|      10037|        device|2025-10-28 22:47:...|       e|      C|STRANDBY|          2|\n",
      "|   CI00257|bfaa2da4-3371-469...|      10037|        device|2025-10-28 22:47:...|       e|      C|    NULL|          8|\n",
      "|   CI00257|bfaa2da4-3371-469...|      10037|        device|2025-10-28 22:47:...|       v|      C| SUCCESS|         13|\n",
      "|   CI00257|bfaa2da4-3371-469...|      10037|        device|2025-10-28 22:47:...|       e|      C|STRANDBY|         43|\n",
      "|   CI00106|4b78060b-b572-478...|      10038|        device|2025-10-28 22:47:...|       e|      C|STRANDBY|         29|\n",
      "|   CI00106|4b78060b-b572-478...|      10038|        device|2025-10-28 22:47:...|       I|      C|    NULL|         24|\n",
      "|   CI00106|4b78060b-b572-478...|      10038|        device|2025-10-28 22:47:...|       I|      C|STRANDBY|         26|\n",
      "|   CI00106|4b78060b-b572-478...|      10038|        device|2025-10-28 22:47:...|       _|      C|   ERROR|         47|\n",
      "+----------+--------------------+-----------+--------------+--------------------+--------+-------+--------+-----------+\n",
      "\n",
      "batch id :  15\n",
      "+----------+--------------------+-----------+--------------+--------------------+--------+-------+--------+-----------+\n",
      "|customerId|             eventId|eventOffset|eventPublisher|           eventTime|deviceId|measure|  status|temperature|\n",
      "+----------+--------------------+-----------+--------------+--------------------+--------+-------+--------+-----------+\n",
      "|   CI00134|cd64a4b7-ca0d-4ea...|      10039|        device|2025-10-28 22:47:...|       v|      C|   ERROR|          5|\n",
      "|   CI00134|cd64a4b7-ca0d-4ea...|      10039|        device|2025-10-28 22:47:...|       v|      C| SUCCESS|         27|\n",
      "|   CI00134|cd64a4b7-ca0d-4ea...|      10039|        device|2025-10-28 22:47:...|       _|      C| SUCCESS|          4|\n",
      "|   CI00134|cd64a4b7-ca0d-4ea...|      10039|        device|2025-10-28 22:47:...|       D|      C|    NULL|         42|\n",
      "|   CI00132|0afe2390-b002-431...|      10040|        device|2025-10-28 22:47:...|       e|      C|    NULL|         25|\n",
      "|   CI00132|0afe2390-b002-431...|      10040|        device|2025-10-28 22:47:...|       c|      C|   ERROR|         11|\n",
      "|   CI00132|0afe2390-b002-431...|      10040|        device|2025-10-28 22:47:...|       _|      C| SUCCESS|         17|\n",
      "|   CI00132|0afe2390-b002-431...|      10040|        device|2025-10-28 22:47:...|       _|      C|STRANDBY|         10|\n",
      "|   CI00132|0afe2390-b002-431...|      10040|        device|2025-10-28 22:47:...|       i|      C|STRANDBY|         31|\n",
      "+----------+--------------------+-----------+--------------+--------------------+--------+-------+--------+-----------+\n",
      "\n",
      "batch id :  16\n",
      "+----------+--------------------+-----------+--------------+--------------------+--------+-------+--------+-----------+\n",
      "|customerId|             eventId|eventOffset|eventPublisher|           eventTime|deviceId|measure|  status|temperature|\n",
      "+----------+--------------------+-----------+--------------+--------------------+--------+-------+--------+-----------+\n",
      "|   CI00109|ad61fa46-2657-434...|      10041|        device|2025-10-28 22:47:...|       i|      C|    NULL|         39|\n",
      "|   CI00109|ad61fa46-2657-434...|      10041|        device|2025-10-28 22:47:...|       e|      C|    NULL|         22|\n",
      "|   CI00109|ad61fa46-2657-434...|      10041|        device|2025-10-28 22:47:...|       d|      C|   ERROR|         19|\n",
      "|   CI00212|d534db66-6636-491...|      10042|        device|2025-10-28 22:47:...|       _|      C|STRANDBY|         22|\n",
      "|   CI00212|d534db66-6636-491...|      10042|        device|2025-10-28 22:47:...|       _|      C|   ERROR|         28|\n",
      "|   CI00212|d534db66-6636-491...|      10042|        device|2025-10-28 22:47:...|       c|      C| SUCCESS|         32|\n",
      "|   CI00212|d534db66-6636-491...|      10042|        device|2025-10-28 22:47:...|       _|      C|STRANDBY|         31|\n",
      "|   CI00110|88ef191d-21cc-44e...|      10043|        device|2025-10-28 22:47:...|       I|      C|   ERROR|         41|\n",
      "|   CI00110|88ef191d-21cc-44e...|      10043|        device|2025-10-28 22:47:...|       d|      C| SUCCESS|         21|\n",
      "|   CI00110|88ef191d-21cc-44e...|      10043|        device|2025-10-28 22:47:...|       c|      C|STRANDBY|         11|\n",
      "|   CI00110|88ef191d-21cc-44e...|      10043|        device|2025-10-28 22:47:...|       e|      C|   ERROR|          2|\n",
      "|   CI00110|88ef191d-21cc-44e...|      10043|        device|2025-10-28 22:47:...|       _|      C| SUCCESS|         27|\n",
      "+----------+--------------------+-----------+--------------+--------------------+--------+-------+--------+-----------+\n",
      "\n",
      "batch id :  17\n"
     ]
    },
    {
     "name": "stderr",
     "output_type": "stream",
     "text": [
      "                                                                                \r"
     ]
    },
    {
     "name": "stdout",
     "output_type": "stream",
     "text": [
      "+----------+--------------------+-----------+--------------+--------------------+--------+-------+--------+-----------+\n",
      "|customerId|             eventId|eventOffset|eventPublisher|           eventTime|deviceId|measure|  status|temperature|\n",
      "+----------+--------------------+-----------+--------------+--------------------+--------+-------+--------+-----------+\n",
      "|   CI00150|e4b3e0ef-a932-48b...|      10044|        device|2025-10-28 22:48:...|       c|      C| SUCCESS|          9|\n",
      "|   CI00150|e4b3e0ef-a932-48b...|      10044|        device|2025-10-28 22:48:...|       i|      C|STRANDBY|         15|\n",
      "|   CI00150|e4b3e0ef-a932-48b...|      10044|        device|2025-10-28 22:48:...|       c|      C| SUCCESS|         28|\n",
      "|   CI00166|0dd03bd0-be64-434...|      10045|        device|2025-10-28 22:48:...|       _|      C|STRANDBY|         37|\n",
      "|   CI00166|0dd03bd0-be64-434...|      10045|        device|2025-10-28 22:48:...|       e|      C| SUCCESS|         41|\n",
      "|   CI00166|0dd03bd0-be64-434...|      10045|        device|2025-10-28 22:48:...|       D|      C|   ERROR|         20|\n",
      "|   CI00166|0dd03bd0-be64-434...|      10045|        device|2025-10-28 22:48:...|       i|      C| SUCCESS|          0|\n",
      "|   CI00121|f472982a-7a2b-43f...|      10046|        device|2025-10-28 22:48:...|       v|      C|   ERROR|         40|\n",
      "|   CI00121|f472982a-7a2b-43f...|      10046|        device|2025-10-28 22:48:...|       e|      C|    NULL|          2|\n",
      "|   CI00121|f472982a-7a2b-43f...|      10046|        device|2025-10-28 22:48:...|       d|      C|STRANDBY|         33|\n",
      "|   CI00121|f472982a-7a2b-43f...|      10046|        device|2025-10-28 22:48:...|       e|      C| SUCCESS|         17|\n",
      "|   CI00291|cf17629f-4499-42d...|      10047|        device|2025-10-28 22:48:...|       e|      C|   ERROR|          5|\n",
      "|   CI00291|cf17629f-4499-42d...|      10047|        device|2025-10-28 22:48:...|       v|      C|    NULL|          8|\n",
      "|   CI00291|cf17629f-4499-42d...|      10047|        device|2025-10-28 22:48:...|       _|      C|   ERROR|         28|\n",
      "|   CI00291|cf17629f-4499-42d...|      10047|        device|2025-10-28 22:48:...|       e|      C|   ERROR|         29|\n",
      "+----------+--------------------+-----------+--------------+--------------------+--------+-------+--------+-----------+\n",
      "\n",
      "batch id :  18\n"
     ]
    },
    {
     "name": "stderr",
     "output_type": "stream",
     "text": [
      "                                                                                \r"
     ]
    },
    {
     "name": "stdout",
     "output_type": "stream",
     "text": [
      "+----------+--------------------+-----------+--------------+--------------------+--------+-------+--------+-----------+\n",
      "|customerId|             eventId|eventOffset|eventPublisher|           eventTime|deviceId|measure|  status|temperature|\n",
      "+----------+--------------------+-----------+--------------+--------------------+--------+-------+--------+-----------+\n",
      "|   CI00206|b3d40f63-09f6-4c6...|      10048|        device|2025-10-28 22:48:...|       d|      C|    NULL|         24|\n",
      "|   CI00206|b3d40f63-09f6-4c6...|      10048|        device|2025-10-28 22:48:...|       I|      C|STRANDBY|         10|\n",
      "|   CI00206|b3d40f63-09f6-4c6...|      10048|        device|2025-10-28 22:48:...|       _|      C|    NULL|         15|\n",
      "|   CI00206|b3d40f63-09f6-4c6...|      10048|        device|2025-10-28 22:48:...|       I|      C|   ERROR|         45|\n",
      "|   CI00206|b3d40f63-09f6-4c6...|      10048|        device|2025-10-28 22:48:...|       e|      C| SUCCESS|         37|\n",
      "|   CI00290|c5ed376f-67b6-43f...|      10049|        device|2025-10-28 22:48:...|       _|      C|    NULL|         34|\n",
      "|   CI00290|c5ed376f-67b6-43f...|      10049|        device|2025-10-28 22:48:...|       e|      C|STRANDBY|         50|\n",
      "|   CI00290|c5ed376f-67b6-43f...|      10049|        device|2025-10-28 22:48:...|       e|      C|    NULL|         30|\n",
      "|   CI00290|c5ed376f-67b6-43f...|      10049|        device|2025-10-28 22:48:...|       e|      C|   ERROR|         48|\n",
      "|   CI00139|cf36cb58-fdd3-4cb...|      10050|        device|2025-10-28 22:48:...|       d|      C| SUCCESS|         33|\n",
      "|   CI00139|cf36cb58-fdd3-4cb...|      10050|        device|2025-10-28 22:48:...|       _|      C|    NULL|         42|\n",
      "|   CI00139|cf36cb58-fdd3-4cb...|      10050|        device|2025-10-28 22:48:...|       I|      C|   ERROR|          2|\n",
      "|   CI00176|5f84ac60-23bb-441...|      10051|        device|2025-10-28 22:48:...|       D|      C| SUCCESS|         49|\n",
      "|   CI00176|5f84ac60-23bb-441...|      10051|        device|2025-10-28 22:48:...|       d|      C|   ERROR|          5|\n",
      "|   CI00176|5f84ac60-23bb-441...|      10051|        device|2025-10-28 22:48:...|       _|      C|    NULL|         20|\n",
      "|   CI00267|58f0ef88-9376-42a...|      10052|        device|2025-10-28 22:48:...|       c|      C|    NULL|         40|\n",
      "|   CI00267|58f0ef88-9376-42a...|      10052|        device|2025-10-28 22:48:...|       d|      C|   ERROR|          5|\n",
      "|   CI00267|58f0ef88-9376-42a...|      10052|        device|2025-10-28 22:48:...|       e|      C| SUCCESS|         39|\n",
      "+----------+--------------------+-----------+--------------+--------------------+--------+-------+--------+-----------+\n",
      "\n",
      "batch id :  19\n",
      "+----------+--------------------+-----------+--------------+--------------------+--------+-------+--------+-----------+\n",
      "|customerId|             eventId|eventOffset|eventPublisher|           eventTime|deviceId|measure|  status|temperature|\n",
      "+----------+--------------------+-----------+--------------+--------------------+--------+-------+--------+-----------+\n",
      "|   CI00196|85faeb29-4d0e-409...|      10053|        device|2025-10-28 22:48:...|       I|      C|STRANDBY|         31|\n",
      "|   CI00196|85faeb29-4d0e-409...|      10053|        device|2025-10-28 22:48:...|       d|      C| SUCCESS|         31|\n",
      "|   CI00196|85faeb29-4d0e-409...|      10053|        device|2025-10-28 22:48:...|       I|      C|   ERROR|          8|\n",
      "|   CI00182|da701392-fa9c-4b8...|      10054|        device|2025-10-28 22:48:...|       v|      C|    NULL|         37|\n",
      "|   CI00182|da701392-fa9c-4b8...|      10054|        device|2025-10-28 22:48:...|       e|      C|    NULL|         33|\n",
      "|   CI00182|da701392-fa9c-4b8...|      10054|        device|2025-10-28 22:48:...|       i|      C|   ERROR|         37|\n",
      "|   CI00182|da701392-fa9c-4b8...|      10054|        device|2025-10-28 22:48:...|       i|      C|STRANDBY|         42|\n",
      "|   CI00182|da701392-fa9c-4b8...|      10054|        device|2025-10-28 22:48:...|       D|      C|STRANDBY|         31|\n",
      "+----------+--------------------+-----------+--------------+--------------------+--------+-------+--------+-----------+\n",
      "\n",
      "batch id :  20\n"
     ]
    },
    {
     "name": "stderr",
     "output_type": "stream",
     "text": [
      "                                                                                \r"
     ]
    },
    {
     "name": "stdout",
     "output_type": "stream",
     "text": [
      "+----------+--------------------+-----------+--------------+--------------------+--------+-------+--------+-----------+\n",
      "|customerId|             eventId|eventOffset|eventPublisher|           eventTime|deviceId|measure|  status|temperature|\n",
      "+----------+--------------------+-----------+--------------+--------------------+--------+-------+--------+-----------+\n",
      "|   CI00215|b4bf0101-cb8c-4b7...|      10055|        device|2025-10-28 22:48:...|       e|      C|STRANDBY|         19|\n",
      "|   CI00215|b4bf0101-cb8c-4b7...|      10055|        device|2025-10-28 22:48:...|       i|      C|   ERROR|         47|\n",
      "|   CI00215|b4bf0101-cb8c-4b7...|      10055|        device|2025-10-28 22:48:...|       D|      C|    NULL|         49|\n",
      "|   CI00187|29fb7171-02c4-49f...|      10056|        device|2025-10-28 22:48:...|       e|      C|STRANDBY|         12|\n",
      "|   CI00187|29fb7171-02c4-49f...|      10056|        device|2025-10-28 22:48:...|       I|      C|STRANDBY|          1|\n",
      "|   CI00187|29fb7171-02c4-49f...|      10056|        device|2025-10-28 22:48:...|       d|      C| SUCCESS|         32|\n",
      "|   CI00187|29fb7171-02c4-49f...|      10056|        device|2025-10-28 22:48:...|       v|      C|STRANDBY|         20|\n",
      "+----------+--------------------+-----------+--------------+--------------------+--------+-------+--------+-----------+\n",
      "\n",
      "batch id :  21\n",
      "+----------+--------------------+-----------+--------------+--------------------+--------+-------+--------+-----------+\n",
      "|customerId|             eventId|eventOffset|eventPublisher|           eventTime|deviceId|measure|  status|temperature|\n",
      "+----------+--------------------+-----------+--------------+--------------------+--------+-------+--------+-----------+\n",
      "|   CI00177|37cde605-be64-4bb...|      10057|        device|2025-10-28 22:48:...|       _|      C|   ERROR|         47|\n",
      "|   CI00177|37cde605-be64-4bb...|      10057|        device|2025-10-28 22:48:...|       D|      C| SUCCESS|         19|\n",
      "|   CI00177|37cde605-be64-4bb...|      10057|        device|2025-10-28 22:48:...|       v|      C|STRANDBY|          5|\n",
      "|   CI00114|df8a08a2-8687-495...|      10058|        device|2025-10-28 22:48:...|       D|      C|STRANDBY|         29|\n",
      "|   CI00114|df8a08a2-8687-495...|      10058|        device|2025-10-28 22:48:...|       e|      C|   ERROR|         16|\n",
      "|   CI00114|df8a08a2-8687-495...|      10058|        device|2025-10-28 22:48:...|       D|      C|    NULL|         42|\n",
      "|   CI00114|df8a08a2-8687-495...|      10058|        device|2025-10-28 22:48:...|       i|      C| SUCCESS|         10|\n",
      "|   CI00287|f5b0a663-0fff-4df...|      10059|        device|2025-10-28 22:48:...|       v|      C|STRANDBY|         18|\n",
      "|   CI00287|f5b0a663-0fff-4df...|      10059|        device|2025-10-28 22:48:...|       I|      C|STRANDBY|          0|\n",
      "|   CI00110|28365060-9348-46e...|      10060|        device|2025-10-28 22:48:...|       c|      C|    NULL|         39|\n",
      "+----------+--------------------+-----------+--------------+--------------------+--------+-------+--------+-----------+\n",
      "\n",
      "batch id :  22\n",
      "+----------+--------------------+-----------+--------------+--------------------+--------+-------+--------+-----------+\n",
      "|customerId|             eventId|eventOffset|eventPublisher|           eventTime|deviceId|measure|  status|temperature|\n",
      "+----------+--------------------+-----------+--------------+--------------------+--------+-------+--------+-----------+\n",
      "|   CI00215|6ab613ae-12f9-421...|      10061|        device|2025-10-28 22:48:...|       v|      C|   ERROR|         33|\n",
      "|   CI00141|c08ef7f7-ee27-4a2...|      10062|        device|2025-10-28 22:48:...|       e|      C|    NULL|         33|\n",
      "|   CI00141|c08ef7f7-ee27-4a2...|      10062|        device|2025-10-28 22:48:...|       _|      C| SUCCESS|          0|\n",
      "|   CI00141|c08ef7f7-ee27-4a2...|      10062|        device|2025-10-28 22:48:...|       D|      C|    NULL|         44|\n",
      "|   CI00141|c08ef7f7-ee27-4a2...|      10062|        device|2025-10-28 22:48:...|       D|      C|STRANDBY|          0|\n",
      "|   CI00141|c08ef7f7-ee27-4a2...|      10062|        device|2025-10-28 22:48:...|       _|      C|    NULL|         49|\n",
      "|   CI00250|ed4d6b6b-4b0f-4c1...|      10063|        device|2025-10-28 22:48:...|       d|      C|    NULL|         32|\n",
      "+----------+--------------------+-----------+--------------+--------------------+--------+-------+--------+-----------+\n",
      "\n",
      "batch id :  23\n",
      "+----------+--------------------+-----------+--------------+--------------------+--------+-------+--------+-----------+\n",
      "|customerId|             eventId|eventOffset|eventPublisher|           eventTime|deviceId|measure|  status|temperature|\n",
      "+----------+--------------------+-----------+--------------+--------------------+--------+-------+--------+-----------+\n",
      "|   CI00142|c1ff8814-47be-44b...|      10064|        device|2025-10-28 22:49:...|       i|      C|    NULL|         31|\n",
      "|   CI00142|c1ff8814-47be-44b...|      10064|        device|2025-10-28 22:49:...|       d|      C|   ERROR|         13|\n",
      "|   CI00279|0ef47ba9-8372-421...|      10065|        device|2025-10-28 22:49:...|       I|      C|STRANDBY|         17|\n",
      "|   CI00279|0ef47ba9-8372-421...|      10065|        device|2025-10-28 22:49:...|       e|      C| SUCCESS|         25|\n",
      "|   CI00279|0ef47ba9-8372-421...|      10065|        device|2025-10-28 22:49:...|       d|      C| SUCCESS|         31|\n",
      "|   CI00279|0ef47ba9-8372-421...|      10065|        device|2025-10-28 22:49:...|       _|      C|   ERROR|         33|\n",
      "|   CI00270|0bba1664-9b14-493...|      10066|        device|2025-10-28 22:49:...|       d|      C|STRANDBY|         37|\n",
      "|   CI00270|0bba1664-9b14-493...|      10066|        device|2025-10-28 22:49:...|       e|      C|    NULL|         44|\n",
      "|   CI00270|0bba1664-9b14-493...|      10066|        device|2025-10-28 22:49:...|       _|      C|STRANDBY|         34|\n",
      "+----------+--------------------+-----------+--------------+--------------------+--------+-------+--------+-----------+\n",
      "\n",
      "batch id :  24\n",
      "+----------+--------------------+-----------+--------------+--------------------+--------+-------+--------+-----------+\n",
      "|customerId|             eventId|eventOffset|eventPublisher|           eventTime|deviceId|measure|  status|temperature|\n",
      "+----------+--------------------+-----------+--------------+--------------------+--------+-------+--------+-----------+\n",
      "|   CI00186|735e4658-0d7c-493...|      10067|        device|2025-10-28 22:49:...|       I|      C|STRANDBY|         21|\n",
      "|   CI00186|735e4658-0d7c-493...|      10067|        device|2025-10-28 22:49:...|       I|      C|    NULL|         16|\n",
      "|   CI00186|735e4658-0d7c-493...|      10067|        device|2025-10-28 22:49:...|       e|      C|STRANDBY|         10|\n",
      "|   CI00186|735e4658-0d7c-493...|      10067|        device|2025-10-28 22:49:...|       _|      C|   ERROR|          4|\n",
      "|   CI00186|735e4658-0d7c-493...|      10067|        device|2025-10-28 22:49:...|       _|      C|STRANDBY|          5|\n",
      "|   CI00112|cff58168-777f-44b...|      10068|        device|2025-10-28 22:49:...|       I|      C| SUCCESS|         25|\n",
      "|   CI00112|cff58168-777f-44b...|      10068|        device|2025-10-28 22:49:...|       D|      C| SUCCESS|         38|\n",
      "|   CI00112|cff58168-777f-44b...|      10068|        device|2025-10-28 22:49:...|       i|      C|STRANDBY|         13|\n",
      "|   CI00112|cff58168-777f-44b...|      10068|        device|2025-10-28 22:49:...|       d|      C|   ERROR|         49|\n",
      "|   CI00112|cff58168-777f-44b...|      10068|        device|2025-10-28 22:49:...|       D|      C|STRANDBY|         23|\n",
      "+----------+--------------------+-----------+--------------+--------------------+--------+-------+--------+-----------+\n",
      "\n",
      "batch id :  25\n",
      "+----------+--------------------+-----------+--------------+--------------------+--------+-------+--------+-----------+\n",
      "|customerId|             eventId|eventOffset|eventPublisher|           eventTime|deviceId|measure|  status|temperature|\n",
      "+----------+--------------------+-----------+--------------+--------------------+--------+-------+--------+-----------+\n",
      "|   CI00187|414650b4-e6ce-4e0...|      10069|        device|2025-10-28 22:49:...|       c|      C|   ERROR|         46|\n",
      "|   CI00187|414650b4-e6ce-4e0...|      10069|        device|2025-10-28 22:49:...|       _|      C| SUCCESS|          1|\n",
      "|   CI00187|414650b4-e6ce-4e0...|      10069|        device|2025-10-28 22:49:...|       e|      C|STRANDBY|         33|\n",
      "|   CI00253|3aca77a2-56eb-46d...|      10070|        device|2025-10-28 22:49:...|       d|      C|STRANDBY|         36|\n",
      "|   CI00253|3aca77a2-56eb-46d...|      10070|        device|2025-10-28 22:49:...|       I|      C|STRANDBY|          1|\n",
      "|   CI00253|3aca77a2-56eb-46d...|      10070|        device|2025-10-28 22:49:...|       _|      C|   ERROR|         44|\n",
      "|   CI00253|3aca77a2-56eb-46d...|      10070|        device|2025-10-28 22:49:...|       c|      C|STRANDBY|         31|\n",
      "|   CI00279|c9442b06-cd45-4fc...|      10071|        device|2025-10-28 22:49:...|       I|      C|    NULL|         45|\n",
      "|   CI00279|c9442b06-cd45-4fc...|      10071|        device|2025-10-28 22:49:...|       v|      C|    NULL|         47|\n",
      "|   CI00255|54933eb9-471b-43f...|      10072|        device|2025-10-28 22:49:...|       I|      C|    NULL|         11|\n",
      "|   CI00255|54933eb9-471b-43f...|      10072|        device|2025-10-28 22:49:...|       v|      C|STRANDBY|         23|\n",
      "|   CI00255|54933eb9-471b-43f...|      10072|        device|2025-10-28 22:49:...|       i|      C|STRANDBY|         35|\n",
      "|   CI00255|54933eb9-471b-43f...|      10072|        device|2025-10-28 22:49:...|       v|      C|   ERROR|         14|\n",
      "+----------+--------------------+-----------+--------------+--------------------+--------+-------+--------+-----------+\n",
      "\n",
      "batch id :  26\n",
      "+----------+--------------------+-----------+--------------+--------------------+--------+-------+--------+-----------+\n",
      "|customerId|             eventId|eventOffset|eventPublisher|           eventTime|deviceId|measure|  status|temperature|\n",
      "+----------+--------------------+-----------+--------------+--------------------+--------+-------+--------+-----------+\n",
      "|   CI00211|84e14087-3f53-41d...|      10073|        device|2025-10-28 22:49:...|       e|      C|    NULL|         47|\n",
      "|   CI00196|6ec1b2c5-3f62-41a...|      10074|        device|2025-10-28 22:49:...|       e|      C|   ERROR|         23|\n",
      "|   CI00196|6ec1b2c5-3f62-41a...|      10074|        device|2025-10-28 22:49:...|       _|      C|STRANDBY|         25|\n",
      "|   CI00196|6ec1b2c5-3f62-41a...|      10074|        device|2025-10-28 22:49:...|       I|      C|    NULL|          3|\n",
      "|   CI00196|6ec1b2c5-3f62-41a...|      10074|        device|2025-10-28 22:49:...|       c|      C|STRANDBY|         37|\n",
      "+----------+--------------------+-----------+--------------+--------------------+--------+-------+--------+-----------+\n",
      "\n",
      "batch id :  27\n",
      "+----------+--------------------+-----------+--------------+--------------------+--------+-------+--------+-----------+\n",
      "|customerId|             eventId|eventOffset|eventPublisher|           eventTime|deviceId|measure|  status|temperature|\n",
      "+----------+--------------------+-----------+--------------+--------------------+--------+-------+--------+-----------+\n",
      "|   CI00153|013ebd19-6447-4e8...|      10075|        device|2025-10-28 22:49:...|       e|      C|   ERROR|         29|\n",
      "|   CI00153|013ebd19-6447-4e8...|      10075|        device|2025-10-28 22:49:...|       v|      C| SUCCESS|         46|\n",
      "|   CI00153|013ebd19-6447-4e8...|      10075|        device|2025-10-28 22:49:...|       e|      C|STRANDBY|          5|\n",
      "|   CI00153|013ebd19-6447-4e8...|      10075|        device|2025-10-28 22:49:...|       e|      C| SUCCESS|         14|\n",
      "|   CI00153|013ebd19-6447-4e8...|      10075|        device|2025-10-28 22:49:...|       D|      C|    NULL|         27|\n",
      "|   CI00129|2faab669-5e44-409...|      10076|        device|2025-10-28 22:49:...|       e|      C|   ERROR|         40|\n",
      "+----------+--------------------+-----------+--------------+--------------------+--------+-------+--------+-----------+\n",
      "\n",
      "batch id :  28\n",
      "+----------+--------------------+-----------+--------------+--------------------+--------+-------+--------+-----------+\n",
      "|customerId|             eventId|eventOffset|eventPublisher|           eventTime|deviceId|measure|  status|temperature|\n",
      "+----------+--------------------+-----------+--------------+--------------------+--------+-------+--------+-----------+\n",
      "|   CI00284|844e0ee9-989e-4e5...|      10077|        device|2025-10-28 22:49:...|       v|      C|    NULL|         16|\n",
      "|   CI00103|ae7c6fe7-5041-4b6...|      10078|        device|2025-10-28 22:49:...|       c|      C|    NULL|         19|\n",
      "|   CI00103|ae7c6fe7-5041-4b6...|      10078|        device|2025-10-28 22:49:...|       v|      C| SUCCESS|         24|\n",
      "|   CI00103|ae7c6fe7-5041-4b6...|      10078|        device|2025-10-28 22:49:...|       _|      C|STRANDBY|         22|\n",
      "|   CI00103|ae7c6fe7-5041-4b6...|      10078|        device|2025-10-28 22:49:...|       e|      C|    NULL|         41|\n",
      "|   CI00179|02d2deb3-fcde-4fa...|      10079|        device|2025-10-28 22:49:...|       _|      C| SUCCESS|         30|\n",
      "|   CI00179|02d2deb3-fcde-4fa...|      10079|        device|2025-10-28 22:49:...|       _|      C| SUCCESS|         18|\n",
      "|   CI00179|02d2deb3-fcde-4fa...|      10079|        device|2025-10-28 22:49:...|       e|      C| SUCCESS|         30|\n",
      "|   CI00179|02d2deb3-fcde-4fa...|      10079|        device|2025-10-28 22:49:...|       D|      C| SUCCESS|         24|\n",
      "|   CI00179|02d2deb3-fcde-4fa...|      10079|        device|2025-10-28 22:49:...|       D|      C| SUCCESS|          2|\n",
      "|   CI00156|880cec0c-355e-4d0...|      10080|        device|2025-10-28 22:49:...|       I|      C| SUCCESS|         13|\n",
      "|   CI00156|880cec0c-355e-4d0...|      10080|        device|2025-10-28 22:49:...|       i|      C|   ERROR|          4|\n",
      "|   CI00156|880cec0c-355e-4d0...|      10080|        device|2025-10-28 22:49:...|       d|      C|STRANDBY|         15|\n",
      "|   CI00156|880cec0c-355e-4d0...|      10080|        device|2025-10-28 22:49:...|       v|      C|    NULL|         21|\n",
      "|   CI00156|880cec0c-355e-4d0...|      10080|        device|2025-10-28 22:49:...|       d|      C| SUCCESS|         30|\n",
      "|   CI00118|9b7e6487-ca2e-4a3...|      10081|        device|2025-10-28 22:49:...|       e|      C|   ERROR|         30|\n",
      "|   CI00118|9b7e6487-ca2e-4a3...|      10081|        device|2025-10-28 22:49:...|       c|      C|STRANDBY|         22|\n",
      "|   CI00118|9b7e6487-ca2e-4a3...|      10081|        device|2025-10-28 22:49:...|       v|      C|   ERROR|         30|\n",
      "|   CI00118|9b7e6487-ca2e-4a3...|      10081|        device|2025-10-28 22:49:...|       c|      C|    NULL|         32|\n",
      "|   CI00118|9b7e6487-ca2e-4a3...|      10081|        device|2025-10-28 22:49:...|       d|      C|   ERROR|         43|\n",
      "+----------+--------------------+-----------+--------------+--------------------+--------+-------+--------+-----------+\n",
      "\n",
      "batch id :  29\n"
     ]
    },
    {
     "name": "stderr",
     "output_type": "stream",
     "text": [
      "                                                                                \r"
     ]
    },
    {
     "name": "stdout",
     "output_type": "stream",
     "text": [
      "+----------+--------------------+-----------+--------------+--------------------+--------+-------+--------+-----------+\n",
      "|customerId|             eventId|eventOffset|eventPublisher|           eventTime|deviceId|measure|  status|temperature|\n",
      "+----------+--------------------+-----------+--------------+--------------------+--------+-------+--------+-----------+\n",
      "|   CI00206|eec78534-9f6c-4e5...|      10082|        device|2025-10-28 22:50:...|       i|      C|STRANDBY|         41|\n",
      "|   CI00215|17bc3e67-a323-425...|      10083|        device|2025-10-28 22:50:...|       _|      C|STRANDBY|         35|\n",
      "|   CI00215|17bc3e67-a323-425...|      10083|        device|2025-10-28 22:50:...|       d|      C| SUCCESS|         19|\n",
      "|   CI00215|17bc3e67-a323-425...|      10083|        device|2025-10-28 22:50:...|       c|      C| SUCCESS|          7|\n",
      "|   CI00152|dc2182e2-c839-4df...|      10084|        device|2025-10-28 22:50:...|       _|      C|    NULL|         29|\n",
      "|   CI00152|dc2182e2-c839-4df...|      10084|        device|2025-10-28 22:50:...|       _|      C|   ERROR|         49|\n",
      "|   CI00152|dc2182e2-c839-4df...|      10084|        device|2025-10-28 22:50:...|       v|      C|STRANDBY|          6|\n",
      "|   CI00152|dc2182e2-c839-4df...|      10084|        device|2025-10-28 22:50:...|       v|      C|STRANDBY|          8|\n",
      "|   CI00152|dc2182e2-c839-4df...|      10084|        device|2025-10-28 22:50:...|       v|      C|   ERROR|          1|\n",
      "|   CI00257|c6e20d01-fb7c-49f...|      10085|        device|2025-10-28 22:50:...|       i|      C| SUCCESS|         24|\n",
      "|   CI00257|c6e20d01-fb7c-49f...|      10085|        device|2025-10-28 22:50:...|       e|      C|STRANDBY|         44|\n",
      "|   CI00257|c6e20d01-fb7c-49f...|      10085|        device|2025-10-28 22:50:...|       v|      C|   ERROR|         39|\n",
      "|   CI00257|c6e20d01-fb7c-49f...|      10085|        device|2025-10-28 22:50:...|       e|      C|   ERROR|         15|\n",
      "+----------+--------------------+-----------+--------------+--------------------+--------+-------+--------+-----------+\n",
      "\n",
      "batch id :  30\n"
     ]
    },
    {
     "name": "stderr",
     "output_type": "stream",
     "text": [
      "                                                                                \r"
     ]
    },
    {
     "name": "stdout",
     "output_type": "stream",
     "text": [
      "+----------+--------------------+-----------+--------------+--------------------+--------+-------+--------+-----------+\n",
      "|customerId|             eventId|eventOffset|eventPublisher|           eventTime|deviceId|measure|  status|temperature|\n",
      "+----------+--------------------+-----------+--------------+--------------------+--------+-------+--------+-----------+\n",
      "|   CI00200|7f19a279-d1f8-46c...|      10086|        device|2025-10-28 22:50:...|       c|      C| SUCCESS|          0|\n",
      "|   CI00200|7f19a279-d1f8-46c...|      10086|        device|2025-10-28 22:50:...|       I|      C|    NULL|         35|\n",
      "|   CI00200|7f19a279-d1f8-46c...|      10086|        device|2025-10-28 22:50:...|       e|      C|    NULL|         23|\n",
      "|   CI00200|7f19a279-d1f8-46c...|      10086|        device|2025-10-28 22:50:...|       e|      C|   ERROR|         32|\n",
      "|   CI00220|54ed5421-59a5-415...|      10087|        device|2025-10-28 22:50:...|       I|      C|STRANDBY|         21|\n",
      "|   CI00220|54ed5421-59a5-415...|      10087|        device|2025-10-28 22:50:...|       d|      C|STRANDBY|          2|\n",
      "|   CI00220|54ed5421-59a5-415...|      10087|        device|2025-10-28 22:50:...|       d|      C| SUCCESS|         11|\n",
      "+----------+--------------------+-----------+--------------+--------------------+--------+-------+--------+-----------+\n",
      "\n",
      "batch id :  31\n"
     ]
    },
    {
     "name": "stderr",
     "output_type": "stream",
     "text": [
      "                                                                                \r"
     ]
    },
    {
     "name": "stdout",
     "output_type": "stream",
     "text": [
      "+----------+--------------------+-----------+--------------+--------------------+--------+-------+-------+-----------+\n",
      "|customerId|             eventId|eventOffset|eventPublisher|           eventTime|deviceId|measure| status|temperature|\n",
      "+----------+--------------------+-----------+--------------+--------------------+--------+-------+-------+-----------+\n",
      "|   CI00176|414d3dfa-2770-4e0...|      10088|        device|2025-10-28 22:50:...|       e|      C|SUCCESS|         29|\n",
      "|   CI00176|414d3dfa-2770-4e0...|      10088|        device|2025-10-28 22:50:...|       c|      C|  ERROR|         49|\n",
      "|   CI00176|414d3dfa-2770-4e0...|      10088|        device|2025-10-28 22:50:...|       e|      C|   NULL|         31|\n",
      "|   CI00263|5fceba91-374f-439...|      10089|        device|2025-10-28 22:50:...|       e|      C|SUCCESS|         30|\n",
      "|   CI00263|5fceba91-374f-439...|      10089|        device|2025-10-28 22:50:...|       e|      C|  ERROR|         18|\n",
      "|   CI00263|5fceba91-374f-439...|      10089|        device|2025-10-28 22:50:...|       v|      C|SUCCESS|         19|\n",
      "|   CI00263|5fceba91-374f-439...|      10089|        device|2025-10-28 22:50:...|       D|      C|  ERROR|         21|\n",
      "|   CI00263|5fceba91-374f-439...|      10089|        device|2025-10-28 22:50:...|       d|      C|   NULL|          8|\n",
      "+----------+--------------------+-----------+--------------+--------------------+--------+-------+-------+-----------+\n",
      "\n",
      "batch id :  32\n"
     ]
    },
    {
     "name": "stderr",
     "output_type": "stream",
     "text": [
      "                                                                                \r"
     ]
    },
    {
     "name": "stdout",
     "output_type": "stream",
     "text": [
      "+----------+--------------------+-----------+--------------+--------------------+--------+-------+--------+-----------+\n",
      "|customerId|             eventId|eventOffset|eventPublisher|           eventTime|deviceId|measure|  status|temperature|\n",
      "+----------+--------------------+-----------+--------------+--------------------+--------+-------+--------+-----------+\n",
      "|   CI00104|d9678a5a-e8b7-42e...|      10090|        device|2025-10-28 22:50:...|       c|      C|STRANDBY|         29|\n",
      "|   CI00274|0f847016-758c-4de...|      10091|        device|2025-10-28 22:50:...|       D|      C| SUCCESS|         28|\n",
      "|   CI00274|0f847016-758c-4de...|      10091|        device|2025-10-28 22:50:...|       c|      C|    NULL|          3|\n",
      "+----------+--------------------+-----------+--------------+--------------------+--------+-------+--------+-----------+\n",
      "\n",
      "batch id :  33\n",
      "+----------+--------------------+-----------+--------------+--------------------+--------+-------+--------+-----------+\n",
      "|customerId|             eventId|eventOffset|eventPublisher|           eventTime|deviceId|measure|  status|temperature|\n",
      "+----------+--------------------+-----------+--------------+--------------------+--------+-------+--------+-----------+\n",
      "|   CI00123|3b3d88c8-fe91-4b8...|      10092|        device|2025-10-28 22:50:...|       i|      C|    NULL|         25|\n",
      "|   CI00123|3b3d88c8-fe91-4b8...|      10092|        device|2025-10-28 22:50:...|       v|      C|    NULL|          7|\n",
      "|   CI00123|3b3d88c8-fe91-4b8...|      10092|        device|2025-10-28 22:50:...|       i|      C|   ERROR|         28|\n",
      "|   CI00123|3b3d88c8-fe91-4b8...|      10092|        device|2025-10-28 22:50:...|       c|      C|STRANDBY|          0|\n",
      "|   CI00155|79031de1-6ba5-481...|      10093|        device|2025-10-28 22:50:...|       I|      C|    NULL|         30|\n",
      "|   CI00155|79031de1-6ba5-481...|      10093|        device|2025-10-28 22:50:...|       e|      C|   ERROR|         10|\n",
      "|   CI00154|81d1788f-d365-437...|      10094|        device|2025-10-28 22:50:...|       e|      C| SUCCESS|         45|\n",
      "|   CI00154|81d1788f-d365-437...|      10094|        device|2025-10-28 22:50:...|       e|      C|   ERROR|         12|\n",
      "+----------+--------------------+-----------+--------------+--------------------+--------+-------+--------+-----------+\n",
      "\n",
      "batch id :  34\n"
     ]
    },
    {
     "name": "stderr",
     "output_type": "stream",
     "text": [
      "                                                                                \r"
     ]
    },
    {
     "name": "stdout",
     "output_type": "stream",
     "text": [
      "+----------+--------------------+-----------+--------------+--------------------+--------+-------+--------+-----------+\n",
      "|customerId|             eventId|eventOffset|eventPublisher|           eventTime|deviceId|measure|  status|temperature|\n",
      "+----------+--------------------+-----------+--------------+--------------------+--------+-------+--------+-----------+\n",
      "|   CI00198|0815a747-65c6-426...|      10095|        device|2025-10-28 22:50:...|       i|      C|    NULL|         13|\n",
      "|   CI00198|0815a747-65c6-426...|      10095|        device|2025-10-28 22:50:...|       I|      C|   ERROR|          3|\n",
      "|   CI00198|0815a747-65c6-426...|      10095|        device|2025-10-28 22:50:...|       c|      C|   ERROR|         47|\n",
      "|   CI00198|0815a747-65c6-426...|      10095|        device|2025-10-28 22:50:...|       I|      C|STRANDBY|         31|\n",
      "|   CI00170|ba460914-1803-406...|      10096|        device|2025-10-28 22:50:...|       I|      C|   ERROR|         42|\n",
      "|   CI00170|ba460914-1803-406...|      10096|        device|2025-10-28 22:50:...|       d|      C|    NULL|         29|\n",
      "|   CI00170|ba460914-1803-406...|      10096|        device|2025-10-28 22:50:...|       _|      C| SUCCESS|          3|\n",
      "|   CI00170|ba460914-1803-406...|      10096|        device|2025-10-28 22:50:...|       I|      C|   ERROR|         21|\n",
      "|   CI00170|ba460914-1803-406...|      10096|        device|2025-10-28 22:50:...|       i|      C|STRANDBY|         34|\n",
      "|   CI00216|a4877483-133d-4d6...|      10097|        device|2025-10-28 22:50:...|       e|      C|STRANDBY|         18|\n",
      "|   CI00216|a4877483-133d-4d6...|      10097|        device|2025-10-28 22:50:...|       _|      C| SUCCESS|         17|\n",
      "+----------+--------------------+-----------+--------------+--------------------+--------+-------+--------+-----------+\n",
      "\n",
      "batch id :  35\n",
      "+----------+--------------------+-----------+--------------+--------------------+--------+-------+--------+-----------+\n",
      "|customerId|             eventId|eventOffset|eventPublisher|           eventTime|deviceId|measure|  status|temperature|\n",
      "+----------+--------------------+-----------+--------------+--------------------+--------+-------+--------+-----------+\n",
      "|   CI00248|dc3d85bf-3cfb-4d7...|      10098|        device|2025-10-28 22:51:...|       i|      C| SUCCESS|         48|\n",
      "|   CI00248|dc3d85bf-3cfb-4d7...|      10098|        device|2025-10-28 22:51:...|       I|      C| SUCCESS|         43|\n",
      "|   CI00113|ddfe7730-98f1-423...|      10099|        device|2025-10-28 22:51:...|       _|      C|STRANDBY|          3|\n",
      "|   CI00113|ddfe7730-98f1-423...|      10099|        device|2025-10-28 22:51:...|       c|      C|    NULL|         25|\n",
      "|   CI00113|ddfe7730-98f1-423...|      10099|        device|2025-10-28 22:51:...|       _|      C|STRANDBY|         12|\n",
      "|   CI00113|ddfe7730-98f1-423...|      10099|        device|2025-10-28 22:51:...|       c|      C|STRANDBY|         41|\n",
      "|   CI00113|ddfe7730-98f1-423...|      10099|        device|2025-10-28 22:51:...|       e|      C|   ERROR|         15|\n",
      "+----------+--------------------+-----------+--------------+--------------------+--------+-------+--------+-----------+\n",
      "\n",
      "batch id :  36\n",
      "+----------+--------------------+-----------+--------------+--------------------+--------+-------+--------+-----------+\n",
      "|customerId|             eventId|eventOffset|eventPublisher|           eventTime|deviceId|measure|  status|temperature|\n",
      "+----------+--------------------+-----------+--------------+--------------------+--------+-------+--------+-----------+\n",
      "|   CI00270|870cdf73-f584-4f3...|      10100|        device|2025-10-28 22:51:...|       c|      C|STRANDBY|          6|\n",
      "|   CI00209|e1bafe89-5008-42e...|      10101|        device|2025-10-28 22:51:...|       D|      C|STRANDBY|          9|\n",
      "|   CI00209|e1bafe89-5008-42e...|      10101|        device|2025-10-28 22:51:...|       e|      C|    NULL|         13|\n",
      "|   CI00209|e1bafe89-5008-42e...|      10101|        device|2025-10-28 22:51:...|       i|      C|   ERROR|         38|\n",
      "+----------+--------------------+-----------+--------------+--------------------+--------+-------+--------+-----------+\n",
      "\n",
      "batch id :  37\n",
      "+----------+--------------------+-----------+--------------+--------------------+--------+-------+--------+-----------+\n",
      "|customerId|             eventId|eventOffset|eventPublisher|           eventTime|deviceId|measure|  status|temperature|\n",
      "+----------+--------------------+-----------+--------------+--------------------+--------+-------+--------+-----------+\n",
      "|   CI00216|7fec1307-d19c-40b...|      10102|        device|2025-10-28 22:51:...|       _|      C|STRANDBY|         10|\n",
      "|   CI00216|7fec1307-d19c-40b...|      10102|        device|2025-10-28 22:51:...|       e|      C|STRANDBY|         20|\n",
      "|   CI00141|aa70c3a7-0f0f-41e...|      10103|        device|2025-10-28 22:51:...|       D|      C|STRANDBY|         47|\n",
      "|   CI00141|aa70c3a7-0f0f-41e...|      10103|        device|2025-10-28 22:51:...|       I|      C|   ERROR|         33|\n",
      "|   CI00141|aa70c3a7-0f0f-41e...|      10103|        device|2025-10-28 22:51:...|       e|      C|STRANDBY|         44|\n",
      "|   CI00171|5972eefd-0a54-46c...|      10104|        device|2025-10-28 22:51:...|       c|      C| SUCCESS|          8|\n",
      "|   CI00171|5972eefd-0a54-46c...|      10104|        device|2025-10-28 22:51:...|       e|      C|   ERROR|         43|\n",
      "|   CI00171|5972eefd-0a54-46c...|      10104|        device|2025-10-28 22:51:...|       e|      C|   ERROR|         49|\n",
      "|   CI00171|5972eefd-0a54-46c...|      10104|        device|2025-10-28 22:51:...|       D|      C|    NULL|         19|\n",
      "+----------+--------------------+-----------+--------------+--------------------+--------+-------+--------+-----------+\n",
      "\n",
      "batch id :  38\n"
     ]
    },
    {
     "name": "stderr",
     "output_type": "stream",
     "text": [
      "                                                                                \r"
     ]
    },
    {
     "name": "stdout",
     "output_type": "stream",
     "text": [
      "+----------+--------------------+-----------+--------------+--------------------+--------+-------+--------+-----------+\n",
      "|customerId|             eventId|eventOffset|eventPublisher|           eventTime|deviceId|measure|  status|temperature|\n",
      "+----------+--------------------+-----------+--------------+--------------------+--------+-------+--------+-----------+\n",
      "|   CI00157|cda55ed2-7ccb-4fc...|      10105|        device|2025-10-28 22:51:...|       e|      C|    NULL|          4|\n",
      "|   CI00157|cda55ed2-7ccb-4fc...|      10105|        device|2025-10-28 22:51:...|       c|      C| SUCCESS|         49|\n",
      "|   CI00157|cda55ed2-7ccb-4fc...|      10105|        device|2025-10-28 22:51:...|       _|      C|STRANDBY|         48|\n",
      "|   CI00157|cda55ed2-7ccb-4fc...|      10105|        device|2025-10-28 22:51:...|       e|      C|STRANDBY|         19|\n",
      "|   CI00157|cda55ed2-7ccb-4fc...|      10105|        device|2025-10-28 22:51:...|       _|      C|STRANDBY|         49|\n",
      "|   CI00242|815d6dcd-bf90-496...|      10106|        device|2025-10-28 22:51:...|       c|      C| SUCCESS|          5|\n",
      "|   CI00242|815d6dcd-bf90-496...|      10106|        device|2025-10-28 22:51:...|       D|      C| SUCCESS|         39|\n",
      "|   CI00242|815d6dcd-bf90-496...|      10106|        device|2025-10-28 22:51:...|       e|      C|    NULL|         21|\n",
      "|   CI00242|815d6dcd-bf90-496...|      10106|        device|2025-10-28 22:51:...|       c|      C|   ERROR|         26|\n",
      "+----------+--------------------+-----------+--------------+--------------------+--------+-------+--------+-----------+\n",
      "\n",
      "batch id :  39\n",
      "+----------+--------------------+-----------+--------------+--------------------+--------+-------+--------+-----------+\n",
      "|customerId|             eventId|eventOffset|eventPublisher|           eventTime|deviceId|measure|  status|temperature|\n",
      "+----------+--------------------+-----------+--------------+--------------------+--------+-------+--------+-----------+\n",
      "|   CI00147|2bde6d1f-a702-4d7...|      10107|        device|2025-10-28 22:51:...|       d|      C| SUCCESS|          3|\n",
      "|   CI00147|2bde6d1f-a702-4d7...|      10107|        device|2025-10-28 22:51:...|       c|      C|STRANDBY|         23|\n",
      "|   CI00216|57b9ce21-e9bc-43e...|      10108|        device|2025-10-28 22:51:...|       i|      C|   ERROR|         43|\n",
      "+----------+--------------------+-----------+--------------+--------------------+--------+-------+--------+-----------+\n",
      "\n",
      "batch id :  40\n",
      "+----------+--------------------+-----------+--------------+--------------------+--------+-------+------+-----------+\n",
      "|customerId|             eventId|eventOffset|eventPublisher|           eventTime|deviceId|measure|status|temperature|\n",
      "+----------+--------------------+-----------+--------------+--------------------+--------+-------+------+-----------+\n",
      "|   CI00261|fa79586c-c42a-4bc...|      10109|        device|2025-10-28 22:51:...|       c|      C| ERROR|         34|\n",
      "|   CI00190|490049f2-4bd9-489...|      10110|        device|2025-10-28 22:51:...|       I|      C| ERROR|         39|\n",
      "|   CI00190|490049f2-4bd9-489...|      10110|        device|2025-10-28 22:51:...|       c|      C| ERROR|         11|\n",
      "+----------+--------------------+-----------+--------------+--------------------+--------+-------+------+-----------+\n",
      "\n",
      "batch id :  41\n",
      "+----------+--------------------+-----------+--------------+--------------------+--------+-------+--------+-----------+\n",
      "|customerId|             eventId|eventOffset|eventPublisher|           eventTime|deviceId|measure|  status|temperature|\n",
      "+----------+--------------------+-----------+--------------+--------------------+--------+-------+--------+-----------+\n",
      "|   CI00135|0e0b2c0a-e461-4cc...|      10111|        device|2025-10-28 22:52:...|       _|      C| SUCCESS|         43|\n",
      "|   CI00135|0e0b2c0a-e461-4cc...|      10111|        device|2025-10-28 22:52:...|       e|      C|STRANDBY|          7|\n",
      "|   CI00135|0e0b2c0a-e461-4cc...|      10111|        device|2025-10-28 22:52:...|       c|      C|    NULL|         33|\n",
      "|   CI00121|0bbc51e1-257e-485...|      10112|        device|2025-10-28 22:52:...|       I|      C|   ERROR|         21|\n",
      "|   CI00121|0bbc51e1-257e-485...|      10112|        device|2025-10-28 22:52:...|       I|      C|    NULL|         15|\n",
      "|   CI00121|0bbc51e1-257e-485...|      10112|        device|2025-10-28 22:52:...|       e|      C|    NULL|         34|\n",
      "+----------+--------------------+-----------+--------------+--------------------+--------+-------+--------+-----------+\n",
      "\n",
      "batch id :  42\n"
     ]
    },
    {
     "name": "stderr",
     "output_type": "stream",
     "text": [
      "                                                                                \r"
     ]
    },
    {
     "name": "stdout",
     "output_type": "stream",
     "text": [
      "+----------+--------------------+-----------+--------------+--------------------+--------+-------+--------+-----------+\n",
      "|customerId|             eventId|eventOffset|eventPublisher|           eventTime|deviceId|measure|  status|temperature|\n",
      "+----------+--------------------+-----------+--------------+--------------------+--------+-------+--------+-----------+\n",
      "|   CI00105|f3deb8f6-ee5d-404...|      10113|        device|2025-10-28 22:52:...|       D|      C|   ERROR|         40|\n",
      "|   CI00105|f3deb8f6-ee5d-404...|      10113|        device|2025-10-28 22:52:...|       c|      C| SUCCESS|         21|\n",
      "|   CI00191|691de16c-4e4b-491...|      10114|        device|2025-10-28 22:52:...|       _|      C| SUCCESS|         42|\n",
      "|   CI00191|691de16c-4e4b-491...|      10114|        device|2025-10-28 22:52:...|       D|      C|   ERROR|         26|\n",
      "|   CI00191|691de16c-4e4b-491...|      10114|        device|2025-10-28 22:52:...|       v|      C|   ERROR|          0|\n",
      "|   CI00191|691de16c-4e4b-491...|      10114|        device|2025-10-28 22:52:...|       I|      C|STRANDBY|         17|\n",
      "|   CI00121|8eb722e4-d4cc-40e...|      10115|        device|2025-10-28 22:52:...|       c|      C|   ERROR|         47|\n",
      "+----------+--------------------+-----------+--------------+--------------------+--------+-------+--------+-----------+\n",
      "\n",
      "batch id :  43\n",
      "+----------+--------------------+-----------+--------------+--------------------+--------+-------+--------+-----------+\n",
      "|customerId|             eventId|eventOffset|eventPublisher|           eventTime|deviceId|measure|  status|temperature|\n",
      "+----------+--------------------+-----------+--------------+--------------------+--------+-------+--------+-----------+\n",
      "|   CI00286|1967df86-c873-4d3...|      10116|        device|2025-10-28 22:52:...|       e|      C| SUCCESS|         37|\n",
      "|   CI00286|1967df86-c873-4d3...|      10116|        device|2025-10-28 22:52:...|       e|      C|    NULL|         29|\n",
      "|   CI00286|1967df86-c873-4d3...|      10116|        device|2025-10-28 22:52:...|       d|      C|   ERROR|         11|\n",
      "|   CI00286|1967df86-c873-4d3...|      10116|        device|2025-10-28 22:52:...|       D|      C|   ERROR|         50|\n",
      "|   CI00286|1967df86-c873-4d3...|      10116|        device|2025-10-28 22:52:...|       I|      C|    NULL|         24|\n",
      "|   CI00264|0d9879ca-4264-4cf...|      10117|        device|2025-10-28 22:52:...|       _|      C|    NULL|         12|\n",
      "|   CI00264|0d9879ca-4264-4cf...|      10117|        device|2025-10-28 22:52:...|       D|      C|   ERROR|          0|\n",
      "|   CI00264|0d9879ca-4264-4cf...|      10117|        device|2025-10-28 22:52:...|       d|      C|STRANDBY|         15|\n",
      "|   CI00264|0d9879ca-4264-4cf...|      10117|        device|2025-10-28 22:52:...|       _|      C|    NULL|         35|\n",
      "|   CI00264|0d9879ca-4264-4cf...|      10117|        device|2025-10-28 22:52:...|       c|      C|    NULL|          2|\n",
      "|   CI00267|ec4340c4-712f-4b4...|      10118|        device|2025-10-28 22:52:...|       i|      C|    NULL|         50|\n",
      "|   CI00267|ec4340c4-712f-4b4...|      10118|        device|2025-10-28 22:52:...|       D|      C|   ERROR|          8|\n",
      "+----------+--------------------+-----------+--------------+--------------------+--------+-------+--------+-----------+\n",
      "\n",
      "batch id :  44\n",
      "+----------+--------------------+-----------+--------------+--------------------+--------+-------+--------+-----------+\n",
      "|customerId|             eventId|eventOffset|eventPublisher|           eventTime|deviceId|measure|  status|temperature|\n",
      "+----------+--------------------+-----------+--------------+--------------------+--------+-------+--------+-----------+\n",
      "|   CI00167|3e6b89ef-2ebc-45c...|      10119|        device|2025-10-28 22:52:...|       D|      C|   ERROR|         46|\n",
      "|   CI00167|3e6b89ef-2ebc-45c...|      10119|        device|2025-10-28 22:52:...|       D|      C|   ERROR|         36|\n",
      "|   CI00180|98ab1b7f-ee88-4f0...|      10120|        device|2025-10-28 22:52:...|       c|      C|STRANDBY|         39|\n",
      "|   CI00180|98ab1b7f-ee88-4f0...|      10120|        device|2025-10-28 22:52:...|       e|      C|    NULL|         48|\n",
      "|   CI00180|98ab1b7f-ee88-4f0...|      10120|        device|2025-10-28 22:52:...|       e|      C|STRANDBY|          3|\n",
      "|   CI00180|98ab1b7f-ee88-4f0...|      10120|        device|2025-10-28 22:52:...|       v|      C| SUCCESS|          0|\n",
      "|   CI00175|818ccc51-c654-4aa...|      10121|        device|2025-10-28 22:52:...|       e|      C|STRANDBY|         34|\n",
      "|   CI00175|818ccc51-c654-4aa...|      10121|        device|2025-10-28 22:52:...|       D|      C|STRANDBY|         19|\n",
      "|   CI00175|818ccc51-c654-4aa...|      10121|        device|2025-10-28 22:52:...|       c|      C| SUCCESS|          0|\n",
      "|   CI00175|818ccc51-c654-4aa...|      10121|        device|2025-10-28 22:52:...|       e|      C|    NULL|         13|\n",
      "+----------+--------------------+-----------+--------------+--------------------+--------+-------+--------+-----------+\n",
      "\n",
      "batch id :  45\n",
      "+----------+--------------------+-----------+--------------+--------------------+--------+-------+-------+-----------+\n",
      "|customerId|             eventId|eventOffset|eventPublisher|           eventTime|deviceId|measure| status|temperature|\n",
      "+----------+--------------------+-----------+--------------+--------------------+--------+-------+-------+-----------+\n",
      "|   CI00210|5688e195-c9b6-48f...|      10122|        device|2025-10-28 22:52:...|       i|      C|  ERROR|         44|\n",
      "|   CI00210|5688e195-c9b6-48f...|      10122|        device|2025-10-28 22:52:...|       D|      C|  ERROR|         42|\n",
      "|   CI00210|5688e195-c9b6-48f...|      10122|        device|2025-10-28 22:52:...|       d|      C|SUCCESS|         43|\n",
      "|   CI00238|de3fbc48-cb50-482...|      10123|        device|2025-10-28 22:52:...|       d|      C|SUCCESS|         38|\n",
      "+----------+--------------------+-----------+--------------+--------------------+--------+-------+-------+-----------+\n",
      "\n",
      "batch id :  46\n",
      "+----------+--------------------+-----------+--------------+--------------------+--------+-------+--------+-----------+\n",
      "|customerId|             eventId|eventOffset|eventPublisher|           eventTime|deviceId|measure|  status|temperature|\n",
      "+----------+--------------------+-----------+--------------+--------------------+--------+-------+--------+-----------+\n",
      "|   CI00271|3545fee2-184c-4ec...|      10124|        device|2025-10-28 22:52:...|       e|      C|   ERROR|          9|\n",
      "|   CI00271|3545fee2-184c-4ec...|      10124|        device|2025-10-28 22:52:...|       v|      C|    NULL|         46|\n",
      "|   CI00271|3545fee2-184c-4ec...|      10124|        device|2025-10-28 22:52:...|       _|      C| SUCCESS|         37|\n",
      "|   CI00271|3545fee2-184c-4ec...|      10124|        device|2025-10-28 22:52:...|       _|      C|   ERROR|         12|\n",
      "|   CI00203|e570b5e6-888b-4fe...|      10125|        device|2025-10-28 22:52:...|       d|      C|STRANDBY|         46|\n",
      "|   CI00296|8997b420-d4db-49a...|      10126|        device|2025-10-28 22:52:...|       I|      C| SUCCESS|          1|\n",
      "|   CI00296|8997b420-d4db-49a...|      10126|        device|2025-10-28 22:52:...|       v|      C|   ERROR|         16|\n",
      "|   CI00296|8997b420-d4db-49a...|      10126|        device|2025-10-28 22:52:...|       I|      C|    NULL|         49|\n",
      "|   CI00241|0f4477e1-50cf-495...|      10127|        device|2025-10-28 22:52:...|       D|      C|STRANDBY|          0|\n",
      "|   CI00241|0f4477e1-50cf-495...|      10127|        device|2025-10-28 22:52:...|       e|      C|STRANDBY|         48|\n",
      "|   CI00241|0f4477e1-50cf-495...|      10127|        device|2025-10-28 22:52:...|       d|      C|STRANDBY|          1|\n",
      "|   CI00237|cdf3bc13-a96f-444...|      10128|        device|2025-10-28 22:52:...|       D|      C|   ERROR|         23|\n",
      "|   CI00237|cdf3bc13-a96f-444...|      10128|        device|2025-10-28 22:52:...|       i|      C|    NULL|         35|\n",
      "+----------+--------------------+-----------+--------------+--------------------+--------+-------+--------+-----------+\n",
      "\n",
      "batch id :  47\n"
     ]
    },
    {
     "name": "stderr",
     "output_type": "stream",
     "text": [
      "                                                                                \r"
     ]
    },
    {
     "name": "stdout",
     "output_type": "stream",
     "text": [
      "+----------+--------------------+-----------+--------------+--------------------+--------+-------+--------+-----------+\n",
      "|customerId|             eventId|eventOffset|eventPublisher|           eventTime|deviceId|measure|  status|temperature|\n",
      "+----------+--------------------+-----------+--------------+--------------------+--------+-------+--------+-----------+\n",
      "|   CI00183|9ab284df-521e-44b...|      10129|        device|2025-10-28 22:53:...|       _|      C|STRANDBY|          6|\n",
      "|   CI00183|9ab284df-521e-44b...|      10129|        device|2025-10-28 22:53:...|       i|      C|   ERROR|         46|\n",
      "|   CI00183|9ab284df-521e-44b...|      10129|        device|2025-10-28 22:53:...|       e|      C|   ERROR|         50|\n",
      "|   CI00272|024f97e5-eedf-47a...|      10130|        device|2025-10-28 22:53:...|       e|      C| SUCCESS|         36|\n",
      "|   CI00272|024f97e5-eedf-47a...|      10130|        device|2025-10-28 22:53:...|       i|      C| SUCCESS|         17|\n",
      "|   CI00272|024f97e5-eedf-47a...|      10130|        device|2025-10-28 22:53:...|       I|      C| SUCCESS|         49|\n",
      "|   CI00172|45a96e82-4363-497...|      10131|        device|2025-10-28 22:53:...|       v|      C|    NULL|          1|\n",
      "|   CI00172|45a96e82-4363-497...|      10131|        device|2025-10-28 22:53:...|       d|      C| SUCCESS|         28|\n",
      "+----------+--------------------+-----------+--------------+--------------------+--------+-------+--------+-----------+\n",
      "\n",
      "batch id :  48\n",
      "+----------+--------------------+-----------+--------------+--------------------+--------+-------+--------+-----------+\n",
      "|customerId|             eventId|eventOffset|eventPublisher|           eventTime|deviceId|measure|  status|temperature|\n",
      "+----------+--------------------+-----------+--------------+--------------------+--------+-------+--------+-----------+\n",
      "|   CI00116|97f7f62c-29fa-404...|      10132|        device|2025-10-28 22:53:...|       e|      C| SUCCESS|         43|\n",
      "|   CI00196|aa393209-a0e2-4a7...|      10133|        device|2025-10-28 22:53:...|       D|      C| SUCCESS|          9|\n",
      "|   CI00196|aa393209-a0e2-4a7...|      10133|        device|2025-10-28 22:53:...|       c|      C|STRANDBY|         34|\n",
      "|   CI00196|aa393209-a0e2-4a7...|      10133|        device|2025-10-28 22:53:...|       I|      C|   ERROR|          7|\n",
      "|   CI00196|aa393209-a0e2-4a7...|      10133|        device|2025-10-28 22:53:...|       I|      C|    NULL|          6|\n",
      "|   CI00196|aa393209-a0e2-4a7...|      10133|        device|2025-10-28 22:53:...|       d|      C|    NULL|         32|\n",
      "+----------+--------------------+-----------+--------------+--------------------+--------+-------+--------+-----------+\n",
      "\n",
      "batch id :  49\n"
     ]
    },
    {
     "name": "stderr",
     "output_type": "stream",
     "text": [
      "                                                                                \r"
     ]
    },
    {
     "name": "stdout",
     "output_type": "stream",
     "text": [
      "+----------+--------------------+-----------+--------------+--------------------+--------+-------+--------+-----------+\n",
      "|customerId|             eventId|eventOffset|eventPublisher|           eventTime|deviceId|measure|  status|temperature|\n",
      "+----------+--------------------+-----------+--------------+--------------------+--------+-------+--------+-----------+\n",
      "|   CI00256|69edeb17-030e-44e...|      10134|        device|2025-10-28 22:53:...|       _|      C|STRANDBY|         33|\n",
      "|   CI00256|69edeb17-030e-44e...|      10134|        device|2025-10-28 22:53:...|       D|      C|   ERROR|         18|\n",
      "|   CI00256|69edeb17-030e-44e...|      10134|        device|2025-10-28 22:53:...|       d|      C| SUCCESS|         46|\n",
      "|   CI00256|69edeb17-030e-44e...|      10134|        device|2025-10-28 22:53:...|       v|      C|    NULL|         32|\n",
      "|   CI00176|3b9ead37-b418-4d0...|      10135|        device|2025-10-28 22:53:...|       _|      C| SUCCESS|         11|\n",
      "|   CI00131|71376a23-5928-458...|      10136|        device|2025-10-28 22:53:...|       i|      C|    NULL|         25|\n",
      "|   CI00205|1bc5f501-040b-4dd...|      10137|        device|2025-10-28 22:53:...|       i|      C|    NULL|         28|\n",
      "|   CI00205|1bc5f501-040b-4dd...|      10137|        device|2025-10-28 22:53:...|       _|      C|    NULL|         24|\n",
      "|   CI00205|1bc5f501-040b-4dd...|      10137|        device|2025-10-28 22:53:...|       e|      C|   ERROR|         22|\n",
      "+----------+--------------------+-----------+--------------+--------------------+--------+-------+--------+-----------+\n",
      "\n",
      "batch id :  50\n"
     ]
    },
    {
     "name": "stderr",
     "output_type": "stream",
     "text": [
      "                                                                                \r"
     ]
    },
    {
     "name": "stdout",
     "output_type": "stream",
     "text": [
      "+----------+--------------------+-----------+--------------+--------------------+--------+-------+--------+-----------+\n",
      "|customerId|             eventId|eventOffset|eventPublisher|           eventTime|deviceId|measure|  status|temperature|\n",
      "+----------+--------------------+-----------+--------------+--------------------+--------+-------+--------+-----------+\n",
      "|   CI00127|d94c2a2f-14fd-444...|      10138|        device|2025-10-28 22:53:...|       D|      C| SUCCESS|         44|\n",
      "|   CI00127|d94c2a2f-14fd-444...|      10138|        device|2025-10-28 22:53:...|       e|      C|STRANDBY|         14|\n",
      "|   CI00127|d94c2a2f-14fd-444...|      10138|        device|2025-10-28 22:53:...|       v|      C|   ERROR|         47|\n",
      "|   CI00127|d94c2a2f-14fd-444...|      10138|        device|2025-10-28 22:53:...|       i|      C|    NULL|         45|\n",
      "+----------+--------------------+-----------+--------------+--------------------+--------+-------+--------+-----------+\n",
      "\n",
      "batch id :  51\n",
      "+----------+--------------------+-----------+--------------+--------------------+--------+-------+-------+-----------+\n",
      "|customerId|             eventId|eventOffset|eventPublisher|           eventTime|deviceId|measure| status|temperature|\n",
      "+----------+--------------------+-----------+--------------+--------------------+--------+-------+-------+-----------+\n",
      "|   CI00136|c2a6da44-3986-422...|      10139|        device|2025-10-28 22:53:...|       _|      C|   NULL|         28|\n",
      "|   CI00136|c2a6da44-3986-422...|      10139|        device|2025-10-28 22:53:...|       _|      C|SUCCESS|         40|\n",
      "|   CI00136|c2a6da44-3986-422...|      10139|        device|2025-10-28 22:53:...|       c|      C|SUCCESS|         22|\n",
      "|   CI00136|c2a6da44-3986-422...|      10139|        device|2025-10-28 22:53:...|       c|      C|SUCCESS|         26|\n",
      "|   CI00134|2544b028-913b-439...|      10140|        device|2025-10-28 22:53:...|       D|      C|  ERROR|         24|\n",
      "|   CI00134|2544b028-913b-439...|      10140|        device|2025-10-28 22:53:...|       i|      C|SUCCESS|         42|\n",
      "|   CI00104|bddf893d-0e8f-459...|      10141|        device|2025-10-28 22:53:...|       D|      C|   NULL|         50|\n",
      "|   CI00104|bddf893d-0e8f-459...|      10141|        device|2025-10-28 22:53:...|       _|      C|  ERROR|         16|\n",
      "+----------+--------------------+-----------+--------------+--------------------+--------+-------+-------+-----------+\n",
      "\n",
      "batch id :  52\n"
     ]
    },
    {
     "name": "stderr",
     "output_type": "stream",
     "text": [
      "                                                                                \r"
     ]
    },
    {
     "name": "stdout",
     "output_type": "stream",
     "text": [
      "+----------+--------------------+-----------+--------------+--------------------+--------+-------+--------+-----------+\n",
      "|customerId|             eventId|eventOffset|eventPublisher|           eventTime|deviceId|measure|  status|temperature|\n",
      "+----------+--------------------+-----------+--------------+--------------------+--------+-------+--------+-----------+\n",
      "|   CI00205|6d08db17-78b4-444...|      10142|        device|2025-10-28 22:53:...|       D|      C|STRANDBY|          8|\n",
      "|   CI00205|6d08db17-78b4-444...|      10142|        device|2025-10-28 22:53:...|       i|      C|   ERROR|         14|\n",
      "|   CI00196|8974aadc-9322-480...|      10143|        device|2025-10-28 22:53:...|       c|      C|    NULL|          9|\n",
      "|   CI00176|5e3e6c8d-90f3-471...|      10144|        device|2025-10-28 22:53:...|       v|      C|STRANDBY|          5|\n",
      "|   CI00176|5e3e6c8d-90f3-471...|      10144|        device|2025-10-28 22:53:...|       I|      C|    NULL|         12|\n",
      "|   CI00176|5e3e6c8d-90f3-471...|      10144|        device|2025-10-28 22:53:...|       d|      C|    NULL|         38|\n",
      "+----------+--------------------+-----------+--------------+--------------------+--------+-------+--------+-----------+\n",
      "\n",
      "batch id :  53\n"
     ]
    },
    {
     "name": "stderr",
     "output_type": "stream",
     "text": [
      "                                                                                \r"
     ]
    },
    {
     "name": "stdout",
     "output_type": "stream",
     "text": [
      "+----------+--------------------+-----------+--------------+--------------------+--------+-------+-------+-----------+\n",
      "|customerId|             eventId|eventOffset|eventPublisher|           eventTime|deviceId|measure| status|temperature|\n",
      "+----------+--------------------+-----------+--------------+--------------------+--------+-------+-------+-----------+\n",
      "|   CI00206|6488c795-ffb7-4c8...|      10145|        device|2025-10-28 22:54:...|       i|      C|   NULL|          9|\n",
      "|   CI00206|6488c795-ffb7-4c8...|      10145|        device|2025-10-28 22:54:...|       _|      C|SUCCESS|         20|\n",
      "|   CI00291|abc04f82-b8fd-40b...|      10146|        device|2025-10-28 22:54:...|       c|      C|   NULL|          6|\n",
      "|   CI00196|93dfc987-fcab-4d5...|      10147|        device|2025-10-28 22:54:...|       e|      C|   NULL|         18|\n",
      "|   CI00196|93dfc987-fcab-4d5...|      10147|        device|2025-10-28 22:54:...|       e|      C|  ERROR|         46|\n",
      "|   CI00196|93dfc987-fcab-4d5...|      10147|        device|2025-10-28 22:54:...|       I|      C|SUCCESS|         11|\n",
      "+----------+--------------------+-----------+--------------+--------------------+--------+-------+-------+-----------+\n",
      "\n",
      "batch id :  54\n"
     ]
    },
    {
     "name": "stderr",
     "output_type": "stream",
     "text": [
      "ERROR:root:KeyboardInterrupt while sending command.\n",
      "Traceback (most recent call last):\n",
      "  File \"/home/mhai/test/venv/lib/python3.12/site-packages/py4j/java_gateway.py\", line 1038, in send_command\n",
      "    response = connection.send_command(command)\n",
      "               ^^^^^^^^^^^^^^^^^^^^^^^^^^^^^^^^\n",
      "  File \"/home/mhai/test/venv/lib/python3.12/site-packages/py4j/clientserver.py\", line 535, in send_command\n",
      "    answer = smart_decode(self.stream.readline()[:-1])\n",
      "                          ^^^^^^^^^^^^^^^^^^^^^^\n",
      "  File \"/usr/lib/python3.12/socket.py\", line 707, in readinto\n",
      "    return self._sock.recv_into(b)\n",
      "           ^^^^^^^^^^^^^^^^^^^^^^^\n",
      "KeyboardInterrupt\n"
     ]
    },
    {
     "name": "stdout",
     "output_type": "stream",
     "text": [
      "+----------+--------------------+-----------+--------------+--------------------+--------+-------+--------+-----------+\n",
      "|customerId|             eventId|eventOffset|eventPublisher|           eventTime|deviceId|measure|  status|temperature|\n",
      "+----------+--------------------+-----------+--------------+--------------------+--------+-------+--------+-----------+\n",
      "|   CI00220|25a98c94-574b-48f...|      10148|        device|2025-10-28 22:54:...|       e|      C| SUCCESS|         32|\n",
      "|   CI00220|25a98c94-574b-48f...|      10148|        device|2025-10-28 22:54:...|       I|      C| SUCCESS|          4|\n",
      "|   CI00107|b23dc482-1fb5-42d...|      10149|        device|2025-10-28 22:54:...|       I|      C| SUCCESS|         28|\n",
      "|   CI00107|b23dc482-1fb5-42d...|      10149|        device|2025-10-28 22:54:...|       e|      C| SUCCESS|         24|\n",
      "|   CI00107|b23dc482-1fb5-42d...|      10149|        device|2025-10-28 22:54:...|       e|      C| SUCCESS|         28|\n",
      "|   CI00107|b23dc482-1fb5-42d...|      10149|        device|2025-10-28 22:54:...|       c|      C|    NULL|         35|\n",
      "|   CI00107|b23dc482-1fb5-42d...|      10149|        device|2025-10-28 22:54:...|       e|      C|STRANDBY|         24|\n",
      "+----------+--------------------+-----------+--------------+--------------------+--------+-------+--------+-----------+\n",
      "\n"
     ]
    },
    {
     "ename": "KeyboardInterrupt",
     "evalue": "",
     "output_type": "error",
     "traceback": [
      "\u001b[31m---------------------------------------------------------------------------\u001b[39m",
      "\u001b[31mKeyboardInterrupt\u001b[39m                         Traceback (most recent call last)",
      "\u001b[36mCell\u001b[39m\u001b[36m \u001b[39m\u001b[32mIn[74]\u001b[39m\u001b[32m, line 7\u001b[39m\n\u001b[32m      1\u001b[39m \u001b[43mdevice\u001b[49m\u001b[43m.\u001b[49m\u001b[43mwriteStream\u001b[49m\u001b[43m \u001b[49m\u001b[43m\\\u001b[49m\n\u001b[32m      2\u001b[39m \u001b[43m        \u001b[49m\u001b[43m.\u001b[49m\u001b[43mforeachBatch\u001b[49m\u001b[43m(\u001b[49m\u001b[43msave_psql\u001b[49m\u001b[43m)\u001b[49m\u001b[43m \u001b[49m\u001b[43m\\\u001b[49m\n\u001b[32m      3\u001b[39m \u001b[43m        \u001b[49m\u001b[43m.\u001b[49m\u001b[43moutputMode\u001b[49m\u001b[43m(\u001b[49m\u001b[33;43m'\u001b[39;49m\u001b[33;43mappend\u001b[39;49m\u001b[33;43m'\u001b[39;49m\u001b[43m)\u001b[49m\u001b[43m \u001b[49m\u001b[43m\\\u001b[49m\n\u001b[32m      4\u001b[39m \u001b[43m        \u001b[49m\u001b[43m.\u001b[49m\u001b[43mtrigger\u001b[49m\u001b[43m(\u001b[49m\u001b[43mprocessingTime\u001b[49m\u001b[43m \u001b[49m\u001b[43m=\u001b[49m\u001b[43m \u001b[49m\u001b[33;43m'\u001b[39;49m\u001b[33;43m10 seconds\u001b[39;49m\u001b[33;43m'\u001b[39;49m\u001b[43m)\u001b[49m\u001b[43m \u001b[49m\u001b[43m\\\u001b[49m\n\u001b[32m      5\u001b[39m \u001b[43m        \u001b[49m\u001b[43m.\u001b[49m\u001b[43moption\u001b[49m\u001b[43m(\u001b[49m\u001b[33;43m'\u001b[39;49m\u001b[33;43mcheckpointLocation\u001b[39;49m\u001b[33;43m'\u001b[39;49m\u001b[43m \u001b[49m\u001b[43m,\u001b[49m\u001b[43m \u001b[49m\u001b[33;43m'\u001b[39;49m\u001b[33;43mcheckpoint_dir_kafka\u001b[39;49m\u001b[33;43m'\u001b[39;49m\u001b[43m)\u001b[49m\u001b[43m \u001b[49m\u001b[43m\\\u001b[49m\n\u001b[32m      6\u001b[39m \u001b[43m        \u001b[49m\u001b[43m.\u001b[49m\u001b[43mstart\u001b[49m\u001b[43m(\u001b[49m\u001b[43m)\u001b[49m\u001b[43m \u001b[49m\u001b[43m\\\u001b[49m\n\u001b[32m----> \u001b[39m\u001b[32m7\u001b[39m \u001b[43m        \u001b[49m\u001b[43m.\u001b[49m\u001b[43mawaitTermination\u001b[49m\u001b[43m(\u001b[49m\u001b[43m)\u001b[49m \n",
      "\u001b[36mFile \u001b[39m\u001b[32m~/test/venv/lib/python3.12/site-packages/pyspark/sql/streaming/query.py:225\u001b[39m, in \u001b[36mStreamingQuery.awaitTermination\u001b[39m\u001b[34m(self, timeout)\u001b[39m\n\u001b[32m    223\u001b[39m     \u001b[38;5;28;01mreturn\u001b[39;00m \u001b[38;5;28mself\u001b[39m._jsq.awaitTermination(\u001b[38;5;28mint\u001b[39m(timeout * \u001b[32m1000\u001b[39m))\n\u001b[32m    224\u001b[39m \u001b[38;5;28;01melse\u001b[39;00m:\n\u001b[32m--> \u001b[39m\u001b[32m225\u001b[39m     \u001b[38;5;28;01mreturn\u001b[39;00m \u001b[38;5;28;43mself\u001b[39;49m\u001b[43m.\u001b[49m\u001b[43m_jsq\u001b[49m\u001b[43m.\u001b[49m\u001b[43mawaitTermination\u001b[49m\u001b[43m(\u001b[49m\u001b[43m)\u001b[49m\n",
      "\u001b[36mFile \u001b[39m\u001b[32m~/test/venv/lib/python3.12/site-packages/py4j/java_gateway.py:1361\u001b[39m, in \u001b[36mJavaMember.__call__\u001b[39m\u001b[34m(self, *args)\u001b[39m\n\u001b[32m   1354\u001b[39m args_command, temp_args = \u001b[38;5;28mself\u001b[39m._build_args(*args)\n\u001b[32m   1356\u001b[39m command = proto.CALL_COMMAND_NAME +\\\n\u001b[32m   1357\u001b[39m     \u001b[38;5;28mself\u001b[39m.command_header +\\\n\u001b[32m   1358\u001b[39m     args_command +\\\n\u001b[32m   1359\u001b[39m     proto.END_COMMAND_PART\n\u001b[32m-> \u001b[39m\u001b[32m1361\u001b[39m answer = \u001b[38;5;28;43mself\u001b[39;49m\u001b[43m.\u001b[49m\u001b[43mgateway_client\u001b[49m\u001b[43m.\u001b[49m\u001b[43msend_command\u001b[49m\u001b[43m(\u001b[49m\u001b[43mcommand\u001b[49m\u001b[43m)\u001b[49m\n\u001b[32m   1362\u001b[39m return_value = get_return_value(\n\u001b[32m   1363\u001b[39m     answer, \u001b[38;5;28mself\u001b[39m.gateway_client, \u001b[38;5;28mself\u001b[39m.target_id, \u001b[38;5;28mself\u001b[39m.name)\n\u001b[32m   1365\u001b[39m \u001b[38;5;28;01mfor\u001b[39;00m temp_arg \u001b[38;5;129;01min\u001b[39;00m temp_args:\n",
      "\u001b[36mFile \u001b[39m\u001b[32m~/test/venv/lib/python3.12/site-packages/py4j/java_gateway.py:1038\u001b[39m, in \u001b[36mGatewayClient.send_command\u001b[39m\u001b[34m(self, command, retry, binary)\u001b[39m\n\u001b[32m   1036\u001b[39m connection = \u001b[38;5;28mself\u001b[39m._get_connection()\n\u001b[32m   1037\u001b[39m \u001b[38;5;28;01mtry\u001b[39;00m:\n\u001b[32m-> \u001b[39m\u001b[32m1038\u001b[39m     response = \u001b[43mconnection\u001b[49m\u001b[43m.\u001b[49m\u001b[43msend_command\u001b[49m\u001b[43m(\u001b[49m\u001b[43mcommand\u001b[49m\u001b[43m)\u001b[49m\n\u001b[32m   1039\u001b[39m     \u001b[38;5;28;01mif\u001b[39;00m binary:\n\u001b[32m   1040\u001b[39m         \u001b[38;5;28;01mreturn\u001b[39;00m response, \u001b[38;5;28mself\u001b[39m._create_connection_guard(connection)\n",
      "\u001b[36mFile \u001b[39m\u001b[32m~/test/venv/lib/python3.12/site-packages/py4j/clientserver.py:535\u001b[39m, in \u001b[36mClientServerConnection.send_command\u001b[39m\u001b[34m(self, command)\u001b[39m\n\u001b[32m    533\u001b[39m \u001b[38;5;28;01mtry\u001b[39;00m:\n\u001b[32m    534\u001b[39m     \u001b[38;5;28;01mwhile\u001b[39;00m \u001b[38;5;28;01mTrue\u001b[39;00m:\n\u001b[32m--> \u001b[39m\u001b[32m535\u001b[39m         answer = smart_decode(\u001b[38;5;28;43mself\u001b[39;49m\u001b[43m.\u001b[49m\u001b[43mstream\u001b[49m\u001b[43m.\u001b[49m\u001b[43mreadline\u001b[49m\u001b[43m(\u001b[49m\u001b[43m)\u001b[49m[:-\u001b[32m1\u001b[39m])\n\u001b[32m    536\u001b[39m         logger.debug(\u001b[33m\"\u001b[39m\u001b[33mAnswer received: \u001b[39m\u001b[38;5;132;01m{0}\u001b[39;00m\u001b[33m\"\u001b[39m.format(answer))\n\u001b[32m    537\u001b[39m         \u001b[38;5;66;03m# Happens when a the other end is dead. There might be an empty\u001b[39;00m\n\u001b[32m    538\u001b[39m         \u001b[38;5;66;03m# answer before the socket raises an error.\u001b[39;00m\n",
      "\u001b[36mFile \u001b[39m\u001b[32m/usr/lib/python3.12/socket.py:707\u001b[39m, in \u001b[36mSocketIO.readinto\u001b[39m\u001b[34m(self, b)\u001b[39m\n\u001b[32m    705\u001b[39m \u001b[38;5;28;01mwhile\u001b[39;00m \u001b[38;5;28;01mTrue\u001b[39;00m:\n\u001b[32m    706\u001b[39m     \u001b[38;5;28;01mtry\u001b[39;00m:\n\u001b[32m--> \u001b[39m\u001b[32m707\u001b[39m         \u001b[38;5;28;01mreturn\u001b[39;00m \u001b[38;5;28;43mself\u001b[39;49m\u001b[43m.\u001b[49m\u001b[43m_sock\u001b[49m\u001b[43m.\u001b[49m\u001b[43mrecv_into\u001b[49m\u001b[43m(\u001b[49m\u001b[43mb\u001b[49m\u001b[43m)\u001b[49m\n\u001b[32m    708\u001b[39m     \u001b[38;5;28;01mexcept\u001b[39;00m timeout:\n\u001b[32m    709\u001b[39m         \u001b[38;5;28mself\u001b[39m._timeout_occurred = \u001b[38;5;28;01mTrue\u001b[39;00m\n",
      "\u001b[31mKeyboardInterrupt\u001b[39m: "
     ]
    },
    {
     "name": "stdout",
     "output_type": "stream",
     "text": [
      "batch id :  55\n"
     ]
    }
   ],
   "source": [
    "device.writeStream \\\n",
    "        .foreachBatch(save_psql) \\\n",
    "        .outputMode('append') \\\n",
    "        .trigger(processingTime = '10 seconds') \\\n",
    "        .option('checkpointLocation' , 'checkpoint_dir_kafka') \\\n",
    "        .start() \\\n",
    "        .awaitTermination() "
   ]
  }
 ],
 "metadata": {
  "kernelspec": {
   "display_name": "venv (3.12.3)",
   "language": "python",
   "name": "python3"
  },
  "language_info": {
   "codemirror_mode": {
    "name": "ipython",
    "version": 3
   },
   "file_extension": ".py",
   "mimetype": "text/x-python",
   "name": "python",
   "nbconvert_exporter": "python",
   "pygments_lexer": "ipython3",
   "version": "3.12.3"
  }
 },
 "nbformat": 4,
 "nbformat_minor": 5
}
